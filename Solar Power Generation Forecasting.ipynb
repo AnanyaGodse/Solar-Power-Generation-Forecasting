{
 "cells": [
  {
   "cell_type": "markdown",
   "id": "3d5aa1db",
   "metadata": {},
   "source": [
    "##### Name: Ananya Godse SAP ID: 60009220161"
   ]
  },
  {
   "cell_type": "markdown",
   "id": "766e6545",
   "metadata": {},
   "source": [
    "#### Importing the basic libraries"
   ]
  },
  {
   "cell_type": "code",
   "execution_count": 1,
   "id": "623d5fe8",
   "metadata": {},
   "outputs": [],
   "source": [
    "import pandas as pd\n",
    "import matplotlib.pyplot as plt\n",
    "%matplotlib inline\n",
    "import numpy as np\n",
    "import seaborn as sns\n",
    "from sklearn.model_selection import train_test_split, GridSearchCV"
   ]
  },
  {
   "cell_type": "markdown",
   "id": "17249c98",
   "metadata": {},
   "source": [
    "#### Importing the datasets"
   ]
  },
  {
   "cell_type": "code",
   "execution_count": 2,
   "id": "418356a9",
   "metadata": {},
   "outputs": [
    {
     "data": {
      "text/html": [
       "<div>\n",
       "<style scoped>\n",
       "    .dataframe tbody tr th:only-of-type {\n",
       "        vertical-align: middle;\n",
       "    }\n",
       "\n",
       "    .dataframe tbody tr th {\n",
       "        vertical-align: top;\n",
       "    }\n",
       "\n",
       "    .dataframe thead th {\n",
       "        text-align: right;\n",
       "    }\n",
       "</style>\n",
       "<table border=\"1\" class=\"dataframe\">\n",
       "  <thead>\n",
       "    <tr style=\"text-align: right;\">\n",
       "      <th></th>\n",
       "      <th>Unnamed: 0</th>\n",
       "      <th>DATE_TIME</th>\n",
       "      <th>INVERTER_ID</th>\n",
       "      <th>DC_POWER</th>\n",
       "      <th>AC_POWER</th>\n",
       "      <th>DAILY_YIELD</th>\n",
       "      <th>TOTAL_YIELD</th>\n",
       "      <th>AMBIENT_TEMPERATURE</th>\n",
       "      <th>MODULE_TEMPERATURE</th>\n",
       "      <th>IRRADIATION</th>\n",
       "    </tr>\n",
       "  </thead>\n",
       "  <tbody>\n",
       "    <tr>\n",
       "      <th>0</th>\n",
       "      <td>0</td>\n",
       "      <td>2020-05-15 00:00:00</td>\n",
       "      <td>1BY6WEcLGh8j5v7</td>\n",
       "      <td>0.0</td>\n",
       "      <td>0.0</td>\n",
       "      <td>0.000</td>\n",
       "      <td>6259559.0</td>\n",
       "      <td>25.184316</td>\n",
       "      <td>22.857507</td>\n",
       "      <td>0.0</td>\n",
       "    </tr>\n",
       "    <tr>\n",
       "      <th>1</th>\n",
       "      <td>1</td>\n",
       "      <td>2020-05-15 00:00:00</td>\n",
       "      <td>1BY6WEcLGh8j5v7</td>\n",
       "      <td>0.0</td>\n",
       "      <td>0.0</td>\n",
       "      <td>0.000</td>\n",
       "      <td>6259559.0</td>\n",
       "      <td>25.084589</td>\n",
       "      <td>22.761668</td>\n",
       "      <td>0.0</td>\n",
       "    </tr>\n",
       "    <tr>\n",
       "      <th>2</th>\n",
       "      <td>2</td>\n",
       "      <td>2020-05-15 00:00:00</td>\n",
       "      <td>1BY6WEcLGh8j5v7</td>\n",
       "      <td>0.0</td>\n",
       "      <td>0.0</td>\n",
       "      <td>0.000</td>\n",
       "      <td>6259559.0</td>\n",
       "      <td>24.935753</td>\n",
       "      <td>22.592306</td>\n",
       "      <td>0.0</td>\n",
       "    </tr>\n",
       "    <tr>\n",
       "      <th>3</th>\n",
       "      <td>3</td>\n",
       "      <td>2020-05-15 00:00:00</td>\n",
       "      <td>1BY6WEcLGh8j5v7</td>\n",
       "      <td>0.0</td>\n",
       "      <td>0.0</td>\n",
       "      <td>0.000</td>\n",
       "      <td>6259559.0</td>\n",
       "      <td>24.846130</td>\n",
       "      <td>22.360852</td>\n",
       "      <td>0.0</td>\n",
       "    </tr>\n",
       "    <tr>\n",
       "      <th>4</th>\n",
       "      <td>4</td>\n",
       "      <td>2020-05-15 00:00:00</td>\n",
       "      <td>1BY6WEcLGh8j5v7</td>\n",
       "      <td>0.0</td>\n",
       "      <td>0.0</td>\n",
       "      <td>0.000</td>\n",
       "      <td>6259559.0</td>\n",
       "      <td>24.621525</td>\n",
       "      <td>22.165423</td>\n",
       "      <td>0.0</td>\n",
       "    </tr>\n",
       "    <tr>\n",
       "      <th>...</th>\n",
       "      <td>...</td>\n",
       "      <td>...</td>\n",
       "      <td>...</td>\n",
       "      <td>...</td>\n",
       "      <td>...</td>\n",
       "      <td>...</td>\n",
       "      <td>...</td>\n",
       "      <td>...</td>\n",
       "      <td>...</td>\n",
       "      <td>...</td>\n",
       "    </tr>\n",
       "    <tr>\n",
       "      <th>134125</th>\n",
       "      <td>134125</td>\n",
       "      <td>2020-06-17 23:45:00</td>\n",
       "      <td>uHbuxQJl8lW7ozc</td>\n",
       "      <td>0.0</td>\n",
       "      <td>0.0</td>\n",
       "      <td>5967.000</td>\n",
       "      <td>7287002.0</td>\n",
       "      <td>NaN</td>\n",
       "      <td>NaN</td>\n",
       "      <td>NaN</td>\n",
       "    </tr>\n",
       "    <tr>\n",
       "      <th>134126</th>\n",
       "      <td>134126</td>\n",
       "      <td>2020-06-17 23:45:00</td>\n",
       "      <td>wCURE6d3bPkepu2</td>\n",
       "      <td>0.0</td>\n",
       "      <td>0.0</td>\n",
       "      <td>5147.625</td>\n",
       "      <td>7028601.0</td>\n",
       "      <td>NaN</td>\n",
       "      <td>NaN</td>\n",
       "      <td>NaN</td>\n",
       "    </tr>\n",
       "    <tr>\n",
       "      <th>134127</th>\n",
       "      <td>134127</td>\n",
       "      <td>2020-06-17 23:45:00</td>\n",
       "      <td>z9Y9gH1T5YWrNuG</td>\n",
       "      <td>0.0</td>\n",
       "      <td>0.0</td>\n",
       "      <td>5819.000</td>\n",
       "      <td>7251204.0</td>\n",
       "      <td>NaN</td>\n",
       "      <td>NaN</td>\n",
       "      <td>NaN</td>\n",
       "    </tr>\n",
       "    <tr>\n",
       "      <th>134128</th>\n",
       "      <td>134128</td>\n",
       "      <td>2020-06-17 23:45:00</td>\n",
       "      <td>zBIq5rxdHJRwDNY</td>\n",
       "      <td>0.0</td>\n",
       "      <td>0.0</td>\n",
       "      <td>5817.000</td>\n",
       "      <td>6583369.0</td>\n",
       "      <td>NaN</td>\n",
       "      <td>NaN</td>\n",
       "      <td>NaN</td>\n",
       "    </tr>\n",
       "    <tr>\n",
       "      <th>134129</th>\n",
       "      <td>134129</td>\n",
       "      <td>2020-06-17 23:45:00</td>\n",
       "      <td>zVJPv84UY57bAof</td>\n",
       "      <td>0.0</td>\n",
       "      <td>0.0</td>\n",
       "      <td>5910.000</td>\n",
       "      <td>7363272.0</td>\n",
       "      <td>NaN</td>\n",
       "      <td>NaN</td>\n",
       "      <td>NaN</td>\n",
       "    </tr>\n",
       "  </tbody>\n",
       "</table>\n",
       "<p>134130 rows × 10 columns</p>\n",
       "</div>"
      ],
      "text/plain": [
       "        Unnamed: 0            DATE_TIME      INVERTER_ID  DC_POWER  AC_POWER  \\\n",
       "0                0  2020-05-15 00:00:00  1BY6WEcLGh8j5v7       0.0       0.0   \n",
       "1                1  2020-05-15 00:00:00  1BY6WEcLGh8j5v7       0.0       0.0   \n",
       "2                2  2020-05-15 00:00:00  1BY6WEcLGh8j5v7       0.0       0.0   \n",
       "3                3  2020-05-15 00:00:00  1BY6WEcLGh8j5v7       0.0       0.0   \n",
       "4                4  2020-05-15 00:00:00  1BY6WEcLGh8j5v7       0.0       0.0   \n",
       "...            ...                  ...              ...       ...       ...   \n",
       "134125      134125  2020-06-17 23:45:00  uHbuxQJl8lW7ozc       0.0       0.0   \n",
       "134126      134126  2020-06-17 23:45:00  wCURE6d3bPkepu2       0.0       0.0   \n",
       "134127      134127  2020-06-17 23:45:00  z9Y9gH1T5YWrNuG       0.0       0.0   \n",
       "134128      134128  2020-06-17 23:45:00  zBIq5rxdHJRwDNY       0.0       0.0   \n",
       "134129      134129  2020-06-17 23:45:00  zVJPv84UY57bAof       0.0       0.0   \n",
       "\n",
       "        DAILY_YIELD  TOTAL_YIELD  AMBIENT_TEMPERATURE  MODULE_TEMPERATURE  \\\n",
       "0             0.000    6259559.0            25.184316           22.857507   \n",
       "1             0.000    6259559.0            25.084589           22.761668   \n",
       "2             0.000    6259559.0            24.935753           22.592306   \n",
       "3             0.000    6259559.0            24.846130           22.360852   \n",
       "4             0.000    6259559.0            24.621525           22.165423   \n",
       "...             ...          ...                  ...                 ...   \n",
       "134125     5967.000    7287002.0                  NaN                 NaN   \n",
       "134126     5147.625    7028601.0                  NaN                 NaN   \n",
       "134127     5819.000    7251204.0                  NaN                 NaN   \n",
       "134128     5817.000    6583369.0                  NaN                 NaN   \n",
       "134129     5910.000    7363272.0                  NaN                 NaN   \n",
       "\n",
       "        IRRADIATION  \n",
       "0               0.0  \n",
       "1               0.0  \n",
       "2               0.0  \n",
       "3               0.0  \n",
       "4               0.0  \n",
       "...             ...  \n",
       "134125          NaN  \n",
       "134126          NaN  \n",
       "134127          NaN  \n",
       "134128          NaN  \n",
       "134129          NaN  \n",
       "\n",
       "[134130 rows x 10 columns]"
      ]
     },
     "execution_count": 2,
     "metadata": {},
     "output_type": "execute_result"
    }
   ],
   "source": [
    "plant1 = pd.read_csv(\"Modified Data/plant1_merged.csv\")\n",
    "plant1"
   ]
  },
  {
   "cell_type": "code",
   "execution_count": 3,
   "id": "02a5d2d7",
   "metadata": {},
   "outputs": [
    {
     "data": {
      "text/html": [
       "<div>\n",
       "<style scoped>\n",
       "    .dataframe tbody tr th:only-of-type {\n",
       "        vertical-align: middle;\n",
       "    }\n",
       "\n",
       "    .dataframe tbody tr th {\n",
       "        vertical-align: top;\n",
       "    }\n",
       "\n",
       "    .dataframe thead th {\n",
       "        text-align: right;\n",
       "    }\n",
       "</style>\n",
       "<table border=\"1\" class=\"dataframe\">\n",
       "  <thead>\n",
       "    <tr style=\"text-align: right;\">\n",
       "      <th></th>\n",
       "      <th>Unnamed: 0</th>\n",
       "      <th>DATE_TIME</th>\n",
       "      <th>INVERTER_ID</th>\n",
       "      <th>DC_POWER</th>\n",
       "      <th>AC_POWER</th>\n",
       "      <th>DAILY_YIELD</th>\n",
       "      <th>TOTAL_YIELD</th>\n",
       "      <th>AMBIENT_TEMPERATURE</th>\n",
       "      <th>MODULE_TEMPERATURE</th>\n",
       "      <th>IRRADIATION</th>\n",
       "    </tr>\n",
       "  </thead>\n",
       "  <tbody>\n",
       "    <tr>\n",
       "      <th>0</th>\n",
       "      <td>0</td>\n",
       "      <td>2020-05-15 00:00:00</td>\n",
       "      <td>4UPUqMRk7TRMgml</td>\n",
       "      <td>0.0</td>\n",
       "      <td>0.0</td>\n",
       "      <td>9425.0</td>\n",
       "      <td>2429011.0</td>\n",
       "      <td>27.004764</td>\n",
       "      <td>25.060789</td>\n",
       "      <td>0.0</td>\n",
       "    </tr>\n",
       "    <tr>\n",
       "      <th>1</th>\n",
       "      <td>1</td>\n",
       "      <td>2020-05-15 00:00:00</td>\n",
       "      <td>4UPUqMRk7TRMgml</td>\n",
       "      <td>0.0</td>\n",
       "      <td>0.0</td>\n",
       "      <td>9425.0</td>\n",
       "      <td>2429011.0</td>\n",
       "      <td>26.880811</td>\n",
       "      <td>24.421869</td>\n",
       "      <td>0.0</td>\n",
       "    </tr>\n",
       "    <tr>\n",
       "      <th>2</th>\n",
       "      <td>2</td>\n",
       "      <td>2020-05-15 00:00:00</td>\n",
       "      <td>4UPUqMRk7TRMgml</td>\n",
       "      <td>0.0</td>\n",
       "      <td>0.0</td>\n",
       "      <td>9425.0</td>\n",
       "      <td>2429011.0</td>\n",
       "      <td>26.682055</td>\n",
       "      <td>24.427290</td>\n",
       "      <td>0.0</td>\n",
       "    </tr>\n",
       "    <tr>\n",
       "      <th>3</th>\n",
       "      <td>3</td>\n",
       "      <td>2020-05-15 00:00:00</td>\n",
       "      <td>4UPUqMRk7TRMgml</td>\n",
       "      <td>0.0</td>\n",
       "      <td>0.0</td>\n",
       "      <td>9425.0</td>\n",
       "      <td>2429011.0</td>\n",
       "      <td>26.500589</td>\n",
       "      <td>24.420678</td>\n",
       "      <td>0.0</td>\n",
       "    </tr>\n",
       "    <tr>\n",
       "      <th>4</th>\n",
       "      <td>4</td>\n",
       "      <td>2020-05-15 00:00:00</td>\n",
       "      <td>4UPUqMRk7TRMgml</td>\n",
       "      <td>0.0</td>\n",
       "      <td>0.0</td>\n",
       "      <td>9425.0</td>\n",
       "      <td>2429011.0</td>\n",
       "      <td>26.596148</td>\n",
       "      <td>25.088210</td>\n",
       "      <td>0.0</td>\n",
       "    </tr>\n",
       "    <tr>\n",
       "      <th>...</th>\n",
       "      <td>...</td>\n",
       "      <td>...</td>\n",
       "      <td>...</td>\n",
       "      <td>...</td>\n",
       "      <td>...</td>\n",
       "      <td>...</td>\n",
       "      <td>...</td>\n",
       "      <td>...</td>\n",
       "      <td>...</td>\n",
       "      <td>...</td>\n",
       "    </tr>\n",
       "    <tr>\n",
       "      <th>134651</th>\n",
       "      <td>134651</td>\n",
       "      <td>2020-06-17 11:30:00</td>\n",
       "      <td>q49J1IKaHRwDQnt</td>\n",
       "      <td>0.0</td>\n",
       "      <td>0.0</td>\n",
       "      <td>4157.0</td>\n",
       "      <td>520758.0</td>\n",
       "      <td>NaN</td>\n",
       "      <td>NaN</td>\n",
       "      <td>NaN</td>\n",
       "    </tr>\n",
       "    <tr>\n",
       "      <th>134652</th>\n",
       "      <td>134652</td>\n",
       "      <td>2020-06-17 11:30:00</td>\n",
       "      <td>rrq4fwE8jgrTyWY</td>\n",
       "      <td>0.0</td>\n",
       "      <td>0.0</td>\n",
       "      <td>3931.0</td>\n",
       "      <td>121131356.0</td>\n",
       "      <td>NaN</td>\n",
       "      <td>NaN</td>\n",
       "      <td>NaN</td>\n",
       "    </tr>\n",
       "    <tr>\n",
       "      <th>134653</th>\n",
       "      <td>134653</td>\n",
       "      <td>2020-06-17 11:30:00</td>\n",
       "      <td>vOuJvMaM2sgwLmb</td>\n",
       "      <td>0.0</td>\n",
       "      <td>0.0</td>\n",
       "      <td>4322.0</td>\n",
       "      <td>2427691.0</td>\n",
       "      <td>NaN</td>\n",
       "      <td>NaN</td>\n",
       "      <td>NaN</td>\n",
       "    </tr>\n",
       "    <tr>\n",
       "      <th>134654</th>\n",
       "      <td>134654</td>\n",
       "      <td>2020-06-17 11:30:00</td>\n",
       "      <td>xMbIugepa2P7lBB</td>\n",
       "      <td>0.0</td>\n",
       "      <td>0.0</td>\n",
       "      <td>4218.0</td>\n",
       "      <td>106896394.0</td>\n",
       "      <td>NaN</td>\n",
       "      <td>NaN</td>\n",
       "      <td>NaN</td>\n",
       "    </tr>\n",
       "    <tr>\n",
       "      <th>134655</th>\n",
       "      <td>134655</td>\n",
       "      <td>2020-06-17 11:30:00</td>\n",
       "      <td>xoJJ8DcxJEcupym</td>\n",
       "      <td>0.0</td>\n",
       "      <td>0.0</td>\n",
       "      <td>4316.0</td>\n",
       "      <td>209335741.0</td>\n",
       "      <td>NaN</td>\n",
       "      <td>NaN</td>\n",
       "      <td>NaN</td>\n",
       "    </tr>\n",
       "  </tbody>\n",
       "</table>\n",
       "<p>134656 rows × 10 columns</p>\n",
       "</div>"
      ],
      "text/plain": [
       "        Unnamed: 0            DATE_TIME      INVERTER_ID  DC_POWER  AC_POWER  \\\n",
       "0                0  2020-05-15 00:00:00  4UPUqMRk7TRMgml       0.0       0.0   \n",
       "1                1  2020-05-15 00:00:00  4UPUqMRk7TRMgml       0.0       0.0   \n",
       "2                2  2020-05-15 00:00:00  4UPUqMRk7TRMgml       0.0       0.0   \n",
       "3                3  2020-05-15 00:00:00  4UPUqMRk7TRMgml       0.0       0.0   \n",
       "4                4  2020-05-15 00:00:00  4UPUqMRk7TRMgml       0.0       0.0   \n",
       "...            ...                  ...              ...       ...       ...   \n",
       "134651      134651  2020-06-17 11:30:00  q49J1IKaHRwDQnt       0.0       0.0   \n",
       "134652      134652  2020-06-17 11:30:00  rrq4fwE8jgrTyWY       0.0       0.0   \n",
       "134653      134653  2020-06-17 11:30:00  vOuJvMaM2sgwLmb       0.0       0.0   \n",
       "134654      134654  2020-06-17 11:30:00  xMbIugepa2P7lBB       0.0       0.0   \n",
       "134655      134655  2020-06-17 11:30:00  xoJJ8DcxJEcupym       0.0       0.0   \n",
       "\n",
       "        DAILY_YIELD  TOTAL_YIELD  AMBIENT_TEMPERATURE  MODULE_TEMPERATURE  \\\n",
       "0            9425.0    2429011.0            27.004764           25.060789   \n",
       "1            9425.0    2429011.0            26.880811           24.421869   \n",
       "2            9425.0    2429011.0            26.682055           24.427290   \n",
       "3            9425.0    2429011.0            26.500589           24.420678   \n",
       "4            9425.0    2429011.0            26.596148           25.088210   \n",
       "...             ...          ...                  ...                 ...   \n",
       "134651       4157.0     520758.0                  NaN                 NaN   \n",
       "134652       3931.0  121131356.0                  NaN                 NaN   \n",
       "134653       4322.0    2427691.0                  NaN                 NaN   \n",
       "134654       4218.0  106896394.0                  NaN                 NaN   \n",
       "134655       4316.0  209335741.0                  NaN                 NaN   \n",
       "\n",
       "        IRRADIATION  \n",
       "0               0.0  \n",
       "1               0.0  \n",
       "2               0.0  \n",
       "3               0.0  \n",
       "4               0.0  \n",
       "...             ...  \n",
       "134651          NaN  \n",
       "134652          NaN  \n",
       "134653          NaN  \n",
       "134654          NaN  \n",
       "134655          NaN  \n",
       "\n",
       "[134656 rows x 10 columns]"
      ]
     },
     "execution_count": 3,
     "metadata": {},
     "output_type": "execute_result"
    }
   ],
   "source": [
    "plant2 = pd.read_csv(\"Modified Data/plant2_merged.csv\")\n",
    "plant2"
   ]
  },
  {
   "cell_type": "code",
   "execution_count": 4,
   "id": "5956d993",
   "metadata": {},
   "outputs": [],
   "source": [
    "plant1.drop([\"Unnamed: 0\", \"INVERTER_ID\"], axis=1, inplace=True)\n",
    "plant2.drop([\"Unnamed: 0\", \"INVERTER_ID\"], axis=1, inplace=True)"
   ]
  },
  {
   "cell_type": "code",
   "execution_count": 5,
   "id": "499f678e",
   "metadata": {},
   "outputs": [
    {
     "data": {
      "text/plain": [
       "DATE_TIME               object\n",
       "DC_POWER               float64\n",
       "AC_POWER               float64\n",
       "DAILY_YIELD            float64\n",
       "TOTAL_YIELD            float64\n",
       "AMBIENT_TEMPERATURE    float64\n",
       "MODULE_TEMPERATURE     float64\n",
       "IRRADIATION            float64\n",
       "dtype: object"
      ]
     },
     "execution_count": 5,
     "metadata": {},
     "output_type": "execute_result"
    }
   ],
   "source": [
    "plant1.dtypes"
   ]
  },
  {
   "cell_type": "code",
   "execution_count": 6,
   "id": "c46845ee",
   "metadata": {},
   "outputs": [],
   "source": [
    "plant1[\"DATE_TIME\"] = pd.to_datetime(plant1[\"DATE_TIME\"], format=\"%Y-%m-%d %H:%M:%S\")\n",
    "plant2[\"DATE_TIME\"] = pd.to_datetime(plant2[\"DATE_TIME\"], format=\"%Y-%m-%d %H:%M:%S\")"
   ]
  },
  {
   "cell_type": "code",
   "execution_count": 7,
   "id": "a2192341",
   "metadata": {},
   "outputs": [
    {
     "data": {
      "text/plain": [
       "DATE_TIME              datetime64[ns]\n",
       "DC_POWER                      float64\n",
       "AC_POWER                      float64\n",
       "DAILY_YIELD                   float64\n",
       "TOTAL_YIELD                   float64\n",
       "AMBIENT_TEMPERATURE           float64\n",
       "MODULE_TEMPERATURE            float64\n",
       "IRRADIATION                   float64\n",
       "dtype: object"
      ]
     },
     "execution_count": 7,
     "metadata": {},
     "output_type": "execute_result"
    }
   ],
   "source": [
    "plant1.dtypes"
   ]
  },
  {
   "cell_type": "code",
   "execution_count": 8,
   "id": "f6bbaf0c",
   "metadata": {},
   "outputs": [
    {
     "data": {
      "text/plain": [
       "DATE_TIME              datetime64[ns]\n",
       "DC_POWER                      float64\n",
       "AC_POWER                      float64\n",
       "DAILY_YIELD                   float64\n",
       "TOTAL_YIELD                   float64\n",
       "AMBIENT_TEMPERATURE           float64\n",
       "MODULE_TEMPERATURE            float64\n",
       "IRRADIATION                   float64\n",
       "dtype: object"
      ]
     },
     "execution_count": 8,
     "metadata": {},
     "output_type": "execute_result"
    }
   ],
   "source": [
    "plant2.dtypes"
   ]
  },
  {
   "cell_type": "markdown",
   "id": "ce8338b3",
   "metadata": {},
   "source": [
    "#### Some Assumptions:\n",
    "We're going to keep DAILY_YIELD as our target variable.\n",
    "So in a real life scenario, we'd just have the weather sensor data to predict the daily yield of a power plant and so we'll move forward with just that. "
   ]
  },
  {
   "cell_type": "markdown",
   "id": "ea05e9c9",
   "metadata": {},
   "source": [
    "#### Train Test Split"
   ]
  },
  {
   "cell_type": "code",
   "execution_count": 9,
   "id": "31ca2d89",
   "metadata": {},
   "outputs": [],
   "source": [
    "reduced_plant1 = plant1[[\"AMBIENT_TEMPERATURE\", \"MODULE_TEMPERATURE\", \"IRRADIATION\", \"DAILY_YIELD\"]].copy()"
   ]
  },
  {
   "cell_type": "code",
   "execution_count": 10,
   "id": "41c3ac9e",
   "metadata": {},
   "outputs": [],
   "source": [
    "reduced_plant2 = plant2[[\"AMBIENT_TEMPERATURE\", \"MODULE_TEMPERATURE\", \"IRRADIATION\", \"DAILY_YIELD\"]].copy()"
   ]
  },
  {
   "cell_type": "code",
   "execution_count": 11,
   "id": "ac568c94",
   "metadata": {},
   "outputs": [
    {
     "data": {
      "text/plain": [
       "AMBIENT_TEMPERATURE    65594\n",
       "MODULE_TEMPERATURE     65594\n",
       "IRRADIATION            65594\n",
       "DAILY_YIELD                0\n",
       "dtype: int64"
      ]
     },
     "execution_count": 11,
     "metadata": {},
     "output_type": "execute_result"
    }
   ],
   "source": [
    "reduced_plant1.isnull().sum()"
   ]
  },
  {
   "cell_type": "code",
   "execution_count": 12,
   "id": "6007c8ce",
   "metadata": {},
   "outputs": [],
   "source": [
    "reduced_plant1.fillna(value=0, inplace=True)\n",
    "reduced_plant2.fillna(value=0, inplace=True)"
   ]
  },
  {
   "cell_type": "code",
   "execution_count": 13,
   "id": "946fd539",
   "metadata": {},
   "outputs": [],
   "source": [
    "train_features = [\"AMBIENT_TEMPERATURE\", \"MODULE_TEMPERATURE\", \"IRRADIATION\"]\n",
    "X_p1 = reduced_plant1[train_features]\n",
    "y_p1 = reduced_plant1[\"DAILY_YIELD\"]"
   ]
  },
  {
   "cell_type": "code",
   "execution_count": 14,
   "id": "ea07b1fc",
   "metadata": {},
   "outputs": [],
   "source": [
    "X_p2 = reduced_plant2[train_features]\n",
    "y_p2 = reduced_plant2[\"DAILY_YIELD\"]"
   ]
  },
  {
   "cell_type": "code",
   "execution_count": 15,
   "id": "8c26a943",
   "metadata": {},
   "outputs": [],
   "source": [
    "X_p1_train, X_p1_test, y_p1_train, y_p1_test = train_test_split(X_p1, y_p1, test_size=0.2, random_state=42)"
   ]
  },
  {
   "cell_type": "code",
   "execution_count": 16,
   "id": "ec0b7083",
   "metadata": {},
   "outputs": [],
   "source": [
    "X_p2_train, X_p2_test, y_p2_train, y_p2_test = train_test_split(X_p2, y_p2, test_size=0.2, random_state=42)"
   ]
  },
  {
   "cell_type": "markdown",
   "id": "6d55a0c2",
   "metadata": {},
   "source": [
    "#### LINEAR REGRESSION"
   ]
  },
  {
   "cell_type": "code",
   "execution_count": 17,
   "id": "d280a959",
   "metadata": {},
   "outputs": [],
   "source": [
    "from sklearn.linear_model import LinearRegression\n",
    "from sklearn.metrics import mean_squared_error"
   ]
  },
  {
   "cell_type": "code",
   "execution_count": 18,
   "id": "1bdc5457",
   "metadata": {},
   "outputs": [],
   "source": [
    "linreg = LinearRegression()\n",
    "linreg.fit(X_p1_train, y_p1_train)\n",
    "pred = linreg.predict(X_p1_test)"
   ]
  },
  {
   "cell_type": "code",
   "execution_count": 19,
   "id": "10e491f0",
   "metadata": {
    "scrolled": true
   },
   "outputs": [
    {
     "data": {
      "text/plain": [
       "7887607.970225091"
      ]
     },
     "execution_count": 19,
     "metadata": {},
     "output_type": "execute_result"
    }
   ],
   "source": [
    "mean_squared_error(y_p1_test, pred)"
   ]
  },
  {
   "cell_type": "code",
   "execution_count": 20,
   "id": "ba9d5a3f",
   "metadata": {},
   "outputs": [],
   "source": [
    "linreg2 = LinearRegression() # PLANT 2\n",
    "linreg2.fit(X_p2_train, y_p2_train)\n",
    "pred2 = linreg2.predict(X_p2_test)"
   ]
  },
  {
   "cell_type": "code",
   "execution_count": 21,
   "id": "ed34bd16",
   "metadata": {},
   "outputs": [
    {
     "data": {
      "text/plain": [
       "9666845.977933416"
      ]
     },
     "execution_count": 21,
     "metadata": {},
     "output_type": "execute_result"
    }
   ],
   "source": [
    "mean_squared_error(y_p2_test, pred2)"
   ]
  },
  {
   "cell_type": "markdown",
   "id": "fef52e2f",
   "metadata": {},
   "source": [
    "Default Linear Regression gives a pretty high MSE value which is not good. Now, we know from EDA that Module Temperature, Ambient Temperature and Irradiation are all very highly correlated. So let's try and do Linear Regression with only Irradiation as the other two are a consequence of Irradiation."
   ]
  },
  {
   "cell_type": "code",
   "execution_count": 22,
   "id": "21a5e3f5",
   "metadata": {},
   "outputs": [],
   "source": [
    "X_p1_rev = reduced_plant1[\"IRRADIATION\"]"
   ]
  },
  {
   "cell_type": "code",
   "execution_count": 23,
   "id": "0d49222b",
   "metadata": {},
   "outputs": [],
   "source": [
    "X_p1_train_rev, X_p1_test_rev, y_p1_train, y_p1_test = train_test_split(X_p1_rev, y_p1, test_size=0.2, random_state=42)"
   ]
  },
  {
   "cell_type": "code",
   "execution_count": 24,
   "id": "f68279de",
   "metadata": {},
   "outputs": [],
   "source": [
    "X_p1_train_rev = X_p1_train_rev.to_numpy()\n",
    "X_p1_test_rev = X_p1_test_rev.to_numpy()\n",
    "X_p1_train_rev = X_p1_train_rev.reshape(-1, 1)\n",
    "X_p1_test_rev = X_p1_test_rev.reshape(-1, 1)\n",
    "\n",
    "linreg = LinearRegression()\n",
    "linreg.fit(X_p1_train_rev, y_p1_train)\n",
    "pred = linreg.predict(X_p1_test_rev)"
   ]
  },
  {
   "cell_type": "code",
   "execution_count": 25,
   "id": "7505d264",
   "metadata": {},
   "outputs": [
    {
     "data": {
      "text/plain": [
       "8109974.187599193"
      ]
     },
     "execution_count": 25,
     "metadata": {},
     "output_type": "execute_result"
    }
   ],
   "source": [
    "mean_squared_error(y_p1_test, pred)"
   ]
  },
  {
   "cell_type": "markdown",
   "id": "013b44f6",
   "metadata": {},
   "source": [
    "Okay the mse is still too high."
   ]
  },
  {
   "cell_type": "markdown",
   "id": "1c4e37d1",
   "metadata": {},
   "source": [
    "##### using GridSearchCV to find the best parameters"
   ]
  },
  {
   "cell_type": "code",
   "execution_count": 26,
   "id": "c2d7567b",
   "metadata": {},
   "outputs": [
    {
     "name": "stdout",
     "output_type": "stream",
     "text": [
      "Best hyperparameters: {'copy_X': True, 'fit_intercept': True}\n",
      "Mean Squared Error: 8109974.187599193\n"
     ]
    }
   ],
   "source": [
    "model = LinearRegression()\n",
    "\n",
    "param_grid = {\n",
    "    'fit_intercept': [True, False],\n",
    "    'copy_X': [True, False]\n",
    "}\n",
    "\n",
    "grid_search = GridSearchCV(estimator=model, param_grid=param_grid, cv=5, scoring='neg_mean_squared_error')\n",
    "\n",
    "grid_search.fit(X_p1_train_rev, y_p1_train)\n",
    "\n",
    "print(\"Best hyperparameters:\", grid_search.best_params_)\n",
    "\n",
    "best_model = grid_search.best_estimator_\n",
    "\n",
    "y_pred = best_model.predict(X_p1_test_rev)\n",
    "mse = mean_squared_error(y_p1_test, y_pred)\n",
    "print(\"Mean Squared Error:\", mse)"
   ]
  },
  {
   "cell_type": "markdown",
   "id": "d3df12ae",
   "metadata": {},
   "source": [
    "Even using GridSearchCV the mse is way too big."
   ]
  },
  {
   "cell_type": "markdown",
   "id": "a1e534e7",
   "metadata": {},
   "source": [
    "#### DECISION TREE REGRESSOR"
   ]
  },
  {
   "cell_type": "code",
   "execution_count": 27,
   "id": "a5af21d1",
   "metadata": {},
   "outputs": [],
   "source": [
    "from sklearn.tree import DecisionTreeRegressor\n",
    "decreg = DecisionTreeRegressor(random_state = 42)  \n",
    "decreg.fit(X_p1_train, y_p1_train) # using all weather sensor features\n",
    "pred = decreg.predict(X_p1_test)"
   ]
  },
  {
   "cell_type": "code",
   "execution_count": 28,
   "id": "2e993f46",
   "metadata": {},
   "outputs": [
    {
     "data": {
      "text/plain": [
       "5189993.872284841"
      ]
     },
     "execution_count": 28,
     "metadata": {},
     "output_type": "execute_result"
    }
   ],
   "source": [
    "mean_squared_error(y_p1_test, pred)"
   ]
  },
  {
   "cell_type": "code",
   "execution_count": 29,
   "id": "078ebd62",
   "metadata": {},
   "outputs": [],
   "source": [
    "decreg = DecisionTreeRegressor(random_state = 42)  \n",
    "decreg.fit(X_p1_train_rev, y_p1_train) # using only irradiation\n",
    "pred = decreg.predict(X_p1_test_rev)"
   ]
  },
  {
   "cell_type": "code",
   "execution_count": 30,
   "id": "d7c1e6ed",
   "metadata": {},
   "outputs": [
    {
     "data": {
      "text/plain": [
       "6589861.20479132"
      ]
     },
     "execution_count": 30,
     "metadata": {},
     "output_type": "execute_result"
    }
   ],
   "source": [
    "mean_squared_error(y_p1_test, pred)"
   ]
  },
  {
   "cell_type": "code",
   "execution_count": 31,
   "id": "5f2d725f",
   "metadata": {},
   "outputs": [
    {
     "name": "stdout",
     "output_type": "stream",
     "text": [
      "Fitting 5 folds for each of 36 candidates, totalling 180 fits\n",
      "Best parameters: {'max_depth': None, 'min_samples_leaf': 1, 'min_samples_split': 2}\n",
      "Mean squared error on test set: 6589861.20479132\n"
     ]
    }
   ],
   "source": [
    "tree_reg = DecisionTreeRegressor()\n",
    "\n",
    "param_grid = {\n",
    "    'max_depth': [None, 10, 20, 30], \n",
    "    'min_samples_split': [2, 5, 10], \n",
    "    'min_samples_leaf': [1, 2, 4]     \n",
    "}\n",
    "\n",
    "grid_search = GridSearchCV(tree_reg, param_grid, cv=5, scoring='neg_mean_squared_error', verbose=1)\n",
    "\n",
    "grid_search.fit(X_p1_train, y_p1_train)\n",
    "\n",
    "print(\"Best parameters:\", grid_search.best_params_)\n",
    "\n",
    "best_tree_reg = grid_search.best_estimator_\n",
    "\n",
    "y_pred = best_tree_reg.predict(X_p1_test) \n",
    "mse = mean_squared_error(y_p1_test, pred)\n",
    "print(\"Mean squared error on test set:\", mse)"
   ]
  },
  {
   "cell_type": "markdown",
   "id": "f6800e80",
   "metadata": {},
   "source": [
    "Decision Tree Regressor is a horrible model for this."
   ]
  },
  {
   "cell_type": "markdown",
   "id": "fac5a2f5",
   "metadata": {},
   "source": [
    "#### LASSO REGRESSION"
   ]
  },
  {
   "cell_type": "code",
   "execution_count": 32,
   "id": "ab2d3bf3",
   "metadata": {},
   "outputs": [
    {
     "name": "stderr",
     "output_type": "stream",
     "text": [
      "C:\\Users\\Ananya\\anaconda3\\Lib\\site-packages\\sklearn\\linear_model\\_coordinate_descent.py:628: ConvergenceWarning: Objective did not converge. You might want to increase the number of iterations, check the scale of the features or consider increasing regularisation. Duality gap: 5.416e+10, tolerance: 8.788e+07\n",
      "  model = cd_fast.enet_coordinate_descent(\n"
     ]
    }
   ],
   "source": [
    "from sklearn.linear_model import Lasso\n",
    "lasso = Lasso(alpha=0.1)\n",
    "lasso.fit(X_p1_train, y_p1_train)\n",
    "pred = lasso.predict(X_p1_test)"
   ]
  },
  {
   "cell_type": "code",
   "execution_count": 33,
   "id": "31993de4",
   "metadata": {},
   "outputs": [
    {
     "data": {
      "text/plain": [
       "7887634.380124176"
      ]
     },
     "execution_count": 33,
     "metadata": {},
     "output_type": "execute_result"
    }
   ],
   "source": [
    "mean_squared_error(y_p1_test, pred)"
   ]
  },
  {
   "cell_type": "code",
   "execution_count": 34,
   "id": "b3f88b91",
   "metadata": {},
   "outputs": [
    {
     "name": "stdout",
     "output_type": "stream",
     "text": [
      "Fitting 5 folds for each of 5 candidates, totalling 25 fits\n"
     ]
    },
    {
     "name": "stderr",
     "output_type": "stream",
     "text": [
      "C:\\Users\\Ananya\\anaconda3\\Lib\\site-packages\\sklearn\\linear_model\\_coordinate_descent.py:628: ConvergenceWarning: Objective did not converge. You might want to increase the number of iterations, check the scale of the features or consider increasing regularisation. Duality gap: 3.257e+11, tolerance: 7.028e+07\n",
      "  model = cd_fast.enet_coordinate_descent(\n",
      "C:\\Users\\Ananya\\anaconda3\\Lib\\site-packages\\sklearn\\linear_model\\_coordinate_descent.py:628: ConvergenceWarning: Objective did not converge. You might want to increase the number of iterations, check the scale of the features or consider increasing regularisation. Duality gap: 3.248e+11, tolerance: 7.006e+07\n",
      "  model = cd_fast.enet_coordinate_descent(\n",
      "C:\\Users\\Ananya\\anaconda3\\Lib\\site-packages\\sklearn\\linear_model\\_coordinate_descent.py:628: ConvergenceWarning: Objective did not converge. You might want to increase the number of iterations, check the scale of the features or consider increasing regularisation. Duality gap: 3.258e+11, tolerance: 7.035e+07\n",
      "  model = cd_fast.enet_coordinate_descent(\n",
      "C:\\Users\\Ananya\\anaconda3\\Lib\\site-packages\\sklearn\\linear_model\\_coordinate_descent.py:628: ConvergenceWarning: Objective did not converge. You might want to increase the number of iterations, check the scale of the features or consider increasing regularisation. Duality gap: 3.253e+11, tolerance: 7.035e+07\n",
      "  model = cd_fast.enet_coordinate_descent(\n",
      "C:\\Users\\Ananya\\anaconda3\\Lib\\site-packages\\sklearn\\linear_model\\_coordinate_descent.py:628: ConvergenceWarning: Objective did not converge. You might want to increase the number of iterations, check the scale of the features or consider increasing regularisation. Duality gap: 3.256e+11, tolerance: 7.050e+07\n",
      "  model = cd_fast.enet_coordinate_descent(\n",
      "C:\\Users\\Ananya\\anaconda3\\Lib\\site-packages\\sklearn\\linear_model\\_coordinate_descent.py:628: ConvergenceWarning: Objective did not converge. You might want to increase the number of iterations, check the scale of the features or consider increasing regularisation. Duality gap: 2.450e+11, tolerance: 7.028e+07\n",
      "  model = cd_fast.enet_coordinate_descent(\n",
      "C:\\Users\\Ananya\\anaconda3\\Lib\\site-packages\\sklearn\\linear_model\\_coordinate_descent.py:628: ConvergenceWarning: Objective did not converge. You might want to increase the number of iterations, check the scale of the features or consider increasing regularisation. Duality gap: 2.466e+11, tolerance: 7.006e+07\n",
      "  model = cd_fast.enet_coordinate_descent(\n",
      "C:\\Users\\Ananya\\anaconda3\\Lib\\site-packages\\sklearn\\linear_model\\_coordinate_descent.py:628: ConvergenceWarning: Objective did not converge. You might want to increase the number of iterations, check the scale of the features or consider increasing regularisation. Duality gap: 2.469e+11, tolerance: 7.035e+07\n",
      "  model = cd_fast.enet_coordinate_descent(\n",
      "C:\\Users\\Ananya\\anaconda3\\Lib\\site-packages\\sklearn\\linear_model\\_coordinate_descent.py:628: ConvergenceWarning: Objective did not converge. You might want to increase the number of iterations, check the scale of the features or consider increasing regularisation. Duality gap: 2.394e+11, tolerance: 7.035e+07\n",
      "  model = cd_fast.enet_coordinate_descent(\n",
      "C:\\Users\\Ananya\\anaconda3\\Lib\\site-packages\\sklearn\\linear_model\\_coordinate_descent.py:628: ConvergenceWarning: Objective did not converge. You might want to increase the number of iterations, check the scale of the features or consider increasing regularisation. Duality gap: 2.416e+11, tolerance: 7.050e+07\n",
      "  model = cd_fast.enet_coordinate_descent(\n",
      "C:\\Users\\Ananya\\anaconda3\\Lib\\site-packages\\sklearn\\linear_model\\_coordinate_descent.py:628: ConvergenceWarning: Objective did not converge. You might want to increase the number of iterations, check the scale of the features or consider increasing regularisation. Duality gap: 4.413e+10, tolerance: 7.028e+07\n",
      "  model = cd_fast.enet_coordinate_descent(\n",
      "C:\\Users\\Ananya\\anaconda3\\Lib\\site-packages\\sklearn\\linear_model\\_coordinate_descent.py:628: ConvergenceWarning: Objective did not converge. You might want to increase the number of iterations, check the scale of the features or consider increasing regularisation. Duality gap: 4.601e+10, tolerance: 7.006e+07\n",
      "  model = cd_fast.enet_coordinate_descent(\n",
      "C:\\Users\\Ananya\\anaconda3\\Lib\\site-packages\\sklearn\\linear_model\\_coordinate_descent.py:628: ConvergenceWarning: Objective did not converge. You might want to increase the number of iterations, check the scale of the features or consider increasing regularisation. Duality gap: 4.571e+10, tolerance: 7.035e+07\n",
      "  model = cd_fast.enet_coordinate_descent(\n",
      "C:\\Users\\Ananya\\anaconda3\\Lib\\site-packages\\sklearn\\linear_model\\_coordinate_descent.py:628: ConvergenceWarning: Objective did not converge. You might want to increase the number of iterations, check the scale of the features or consider increasing regularisation. Duality gap: 3.975e+10, tolerance: 7.035e+07\n",
      "  model = cd_fast.enet_coordinate_descent(\n",
      "C:\\Users\\Ananya\\anaconda3\\Lib\\site-packages\\sklearn\\linear_model\\_coordinate_descent.py:628: ConvergenceWarning: Objective did not converge. You might want to increase the number of iterations, check the scale of the features or consider increasing regularisation. Duality gap: 4.124e+10, tolerance: 7.050e+07\n",
      "  model = cd_fast.enet_coordinate_descent(\n",
      "C:\\Users\\Ananya\\anaconda3\\Lib\\site-packages\\sklearn\\linear_model\\_coordinate_descent.py:628: ConvergenceWarning: Objective did not converge. You might want to increase the number of iterations, check the scale of the features or consider increasing regularisation. Duality gap: 6.342e+08, tolerance: 7.028e+07\n",
      "  model = cd_fast.enet_coordinate_descent(\n",
      "C:\\Users\\Ananya\\anaconda3\\Lib\\site-packages\\sklearn\\linear_model\\_coordinate_descent.py:628: ConvergenceWarning: Objective did not converge. You might want to increase the number of iterations, check the scale of the features or consider increasing regularisation. Duality gap: 6.841e+08, tolerance: 7.006e+07\n",
      "  model = cd_fast.enet_coordinate_descent(\n",
      "C:\\Users\\Ananya\\anaconda3\\Lib\\site-packages\\sklearn\\linear_model\\_coordinate_descent.py:628: ConvergenceWarning: Objective did not converge. You might want to increase the number of iterations, check the scale of the features or consider increasing regularisation. Duality gap: 6.712e+08, tolerance: 7.035e+07\n",
      "  model = cd_fast.enet_coordinate_descent(\n",
      "C:\\Users\\Ananya\\anaconda3\\Lib\\site-packages\\sklearn\\linear_model\\_coordinate_descent.py:628: ConvergenceWarning: Objective did not converge. You might want to increase the number of iterations, check the scale of the features or consider increasing regularisation. Duality gap: 5.372e+08, tolerance: 7.035e+07\n",
      "  model = cd_fast.enet_coordinate_descent(\n",
      "C:\\Users\\Ananya\\anaconda3\\Lib\\site-packages\\sklearn\\linear_model\\_coordinate_descent.py:628: ConvergenceWarning: Objective did not converge. You might want to increase the number of iterations, check the scale of the features or consider increasing regularisation. Duality gap: 5.586e+08, tolerance: 7.050e+07\n",
      "  model = cd_fast.enet_coordinate_descent(\n"
     ]
    },
    {
     "name": "stdout",
     "output_type": "stream",
     "text": [
      "Best parameters: {'alpha': 0.001}\n",
      "Mean squared error on test set: 7887607.837941845\n"
     ]
    },
    {
     "name": "stderr",
     "output_type": "stream",
     "text": [
      "C:\\Users\\Ananya\\anaconda3\\Lib\\site-packages\\sklearn\\linear_model\\_coordinate_descent.py:628: ConvergenceWarning: Objective did not converge. You might want to increase the number of iterations, check the scale of the features or consider increasing regularisation. Duality gap: 4.068e+11, tolerance: 8.788e+07\n",
      "  model = cd_fast.enet_coordinate_descent(\n"
     ]
    }
   ],
   "source": [
    "lasso_reg = Lasso()\n",
    "\n",
    "param_grid = {\n",
    "    'alpha': [0.001, 0.01, 0.1, 1, 10]  \n",
    "}\n",
    "\n",
    "grid_search = GridSearchCV(lasso_reg, param_grid, cv=5, scoring='neg_mean_squared_error', verbose=1)\n",
    "\n",
    "grid_search.fit(X_p1_train, y_p1_train)\n",
    "\n",
    "print(\"Best parameters:\", grid_search.best_params_)\n",
    "\n",
    "best_lasso_reg = grid_search.best_estimator_\n",
    "\n",
    "y_pred = best_lasso_reg.predict(X_p1_test) \n",
    "mse = mean_squared_error(y_p1_test, y_pred)\n",
    "print(\"Mean squared error on test set:\", mse)"
   ]
  },
  {
   "cell_type": "markdown",
   "id": "7744b8ec",
   "metadata": {},
   "source": [
    "#### RIDGE REGRESSION"
   ]
  },
  {
   "cell_type": "code",
   "execution_count": 35,
   "id": "dde1fa57",
   "metadata": {},
   "outputs": [],
   "source": [
    "from sklearn.linear_model import Ridge\n",
    "ridge = Ridge(alpha=1.0)\n",
    "ridge.fit(X_p1_train, y_p1_train)\n",
    "pred = ridge.predict(X_p1_test)"
   ]
  },
  {
   "cell_type": "code",
   "execution_count": 36,
   "id": "c3aed673",
   "metadata": {},
   "outputs": [
    {
     "data": {
      "text/plain": [
       "7887612.985658665"
      ]
     },
     "execution_count": 36,
     "metadata": {},
     "output_type": "execute_result"
    }
   ],
   "source": [
    "mean_squared_error(y_p1_test, pred)"
   ]
  },
  {
   "cell_type": "markdown",
   "id": "83afc715",
   "metadata": {},
   "source": [
    "Both Lasso & Ridge Regression don't work out."
   ]
  },
  {
   "cell_type": "markdown",
   "id": "0d6469cc",
   "metadata": {},
   "source": [
    "#### New Training & Testing data (with DATE_TIME)"
   ]
  },
  {
   "cell_type": "code",
   "execution_count": 37,
   "id": "0d57f5e6",
   "metadata": {},
   "outputs": [],
   "source": [
    "t_reduced_plant1 = plant1[[\"DATE_TIME\",\"DAILY_YIELD\"]]\n",
    "t_reduced_plant2 = plant2[[\"DATE_TIME\",\"DAILY_YIELD\"]]"
   ]
  },
  {
   "cell_type": "code",
   "execution_count": 38,
   "id": "28d3fedc",
   "metadata": {},
   "outputs": [
    {
     "data": {
      "text/html": [
       "<div>\n",
       "<style scoped>\n",
       "    .dataframe tbody tr th:only-of-type {\n",
       "        vertical-align: middle;\n",
       "    }\n",
       "\n",
       "    .dataframe tbody tr th {\n",
       "        vertical-align: top;\n",
       "    }\n",
       "\n",
       "    .dataframe thead th {\n",
       "        text-align: right;\n",
       "    }\n",
       "</style>\n",
       "<table border=\"1\" class=\"dataframe\">\n",
       "  <thead>\n",
       "    <tr style=\"text-align: right;\">\n",
       "      <th></th>\n",
       "      <th>DAILY_YIELD</th>\n",
       "    </tr>\n",
       "    <tr>\n",
       "      <th>DATE_TIME</th>\n",
       "      <th></th>\n",
       "    </tr>\n",
       "  </thead>\n",
       "  <tbody>\n",
       "    <tr>\n",
       "      <th>2020-05-15 00:00:00</th>\n",
       "      <td>0.000</td>\n",
       "    </tr>\n",
       "    <tr>\n",
       "      <th>2020-05-15 00:00:00</th>\n",
       "      <td>0.000</td>\n",
       "    </tr>\n",
       "    <tr>\n",
       "      <th>2020-05-15 00:00:00</th>\n",
       "      <td>0.000</td>\n",
       "    </tr>\n",
       "    <tr>\n",
       "      <th>2020-05-15 00:00:00</th>\n",
       "      <td>0.000</td>\n",
       "    </tr>\n",
       "    <tr>\n",
       "      <th>2020-05-15 00:00:00</th>\n",
       "      <td>0.000</td>\n",
       "    </tr>\n",
       "    <tr>\n",
       "      <th>...</th>\n",
       "      <td>...</td>\n",
       "    </tr>\n",
       "    <tr>\n",
       "      <th>2020-06-17 23:45:00</th>\n",
       "      <td>5967.000</td>\n",
       "    </tr>\n",
       "    <tr>\n",
       "      <th>2020-06-17 23:45:00</th>\n",
       "      <td>5147.625</td>\n",
       "    </tr>\n",
       "    <tr>\n",
       "      <th>2020-06-17 23:45:00</th>\n",
       "      <td>5819.000</td>\n",
       "    </tr>\n",
       "    <tr>\n",
       "      <th>2020-06-17 23:45:00</th>\n",
       "      <td>5817.000</td>\n",
       "    </tr>\n",
       "    <tr>\n",
       "      <th>2020-06-17 23:45:00</th>\n",
       "      <td>5910.000</td>\n",
       "    </tr>\n",
       "  </tbody>\n",
       "</table>\n",
       "<p>134130 rows × 1 columns</p>\n",
       "</div>"
      ],
      "text/plain": [
       "                     DAILY_YIELD\n",
       "DATE_TIME                       \n",
       "2020-05-15 00:00:00        0.000\n",
       "2020-05-15 00:00:00        0.000\n",
       "2020-05-15 00:00:00        0.000\n",
       "2020-05-15 00:00:00        0.000\n",
       "2020-05-15 00:00:00        0.000\n",
       "...                          ...\n",
       "2020-06-17 23:45:00     5967.000\n",
       "2020-06-17 23:45:00     5147.625\n",
       "2020-06-17 23:45:00     5819.000\n",
       "2020-06-17 23:45:00     5817.000\n",
       "2020-06-17 23:45:00     5910.000\n",
       "\n",
       "[134130 rows x 1 columns]"
      ]
     },
     "execution_count": 38,
     "metadata": {},
     "output_type": "execute_result"
    }
   ],
   "source": [
    "t_reduced_plant1.set_index(\"DATE_TIME\", inplace=True)\n",
    "t_reduced_plant1"
   ]
  },
  {
   "cell_type": "code",
   "execution_count": 39,
   "id": "326053ee",
   "metadata": {},
   "outputs": [
    {
     "data": {
      "text/html": [
       "<div>\n",
       "<style scoped>\n",
       "    .dataframe tbody tr th:only-of-type {\n",
       "        vertical-align: middle;\n",
       "    }\n",
       "\n",
       "    .dataframe tbody tr th {\n",
       "        vertical-align: top;\n",
       "    }\n",
       "\n",
       "    .dataframe thead th {\n",
       "        text-align: right;\n",
       "    }\n",
       "</style>\n",
       "<table border=\"1\" class=\"dataframe\">\n",
       "  <thead>\n",
       "    <tr style=\"text-align: right;\">\n",
       "      <th></th>\n",
       "      <th>DAILY_YIELD</th>\n",
       "    </tr>\n",
       "    <tr>\n",
       "      <th>DATE_TIME</th>\n",
       "      <th></th>\n",
       "    </tr>\n",
       "  </thead>\n",
       "  <tbody>\n",
       "    <tr>\n",
       "      <th>2020-05-15 00:00:00</th>\n",
       "      <td>9425.0</td>\n",
       "    </tr>\n",
       "    <tr>\n",
       "      <th>2020-05-15 00:00:00</th>\n",
       "      <td>9425.0</td>\n",
       "    </tr>\n",
       "    <tr>\n",
       "      <th>2020-05-15 00:00:00</th>\n",
       "      <td>9425.0</td>\n",
       "    </tr>\n",
       "    <tr>\n",
       "      <th>2020-05-15 00:00:00</th>\n",
       "      <td>9425.0</td>\n",
       "    </tr>\n",
       "    <tr>\n",
       "      <th>2020-05-15 00:00:00</th>\n",
       "      <td>9425.0</td>\n",
       "    </tr>\n",
       "    <tr>\n",
       "      <th>...</th>\n",
       "      <td>...</td>\n",
       "    </tr>\n",
       "    <tr>\n",
       "      <th>2020-06-17 11:30:00</th>\n",
       "      <td>4157.0</td>\n",
       "    </tr>\n",
       "    <tr>\n",
       "      <th>2020-06-17 11:30:00</th>\n",
       "      <td>3931.0</td>\n",
       "    </tr>\n",
       "    <tr>\n",
       "      <th>2020-06-17 11:30:00</th>\n",
       "      <td>4322.0</td>\n",
       "    </tr>\n",
       "    <tr>\n",
       "      <th>2020-06-17 11:30:00</th>\n",
       "      <td>4218.0</td>\n",
       "    </tr>\n",
       "    <tr>\n",
       "      <th>2020-06-17 11:30:00</th>\n",
       "      <td>4316.0</td>\n",
       "    </tr>\n",
       "  </tbody>\n",
       "</table>\n",
       "<p>134656 rows × 1 columns</p>\n",
       "</div>"
      ],
      "text/plain": [
       "                     DAILY_YIELD\n",
       "DATE_TIME                       \n",
       "2020-05-15 00:00:00       9425.0\n",
       "2020-05-15 00:00:00       9425.0\n",
       "2020-05-15 00:00:00       9425.0\n",
       "2020-05-15 00:00:00       9425.0\n",
       "2020-05-15 00:00:00       9425.0\n",
       "...                          ...\n",
       "2020-06-17 11:30:00       4157.0\n",
       "2020-06-17 11:30:00       3931.0\n",
       "2020-06-17 11:30:00       4322.0\n",
       "2020-06-17 11:30:00       4218.0\n",
       "2020-06-17 11:30:00       4316.0\n",
       "\n",
       "[134656 rows x 1 columns]"
      ]
     },
     "execution_count": 39,
     "metadata": {},
     "output_type": "execute_result"
    }
   ],
   "source": [
    "t_reduced_plant2.set_index(\"DATE_TIME\", inplace=True)\n",
    "t_reduced_plant2"
   ]
  },
  {
   "cell_type": "code",
   "execution_count": 40,
   "id": "c9320760",
   "metadata": {},
   "outputs": [],
   "source": [
    "split_date = '2020-06-06'\n",
    "plant1_train = t_reduced_plant1.loc[:split_date]\n",
    "plant1_test = t_reduced_plant1.loc[split_date:]"
   ]
  },
  {
   "cell_type": "code",
   "execution_count": 41,
   "id": "ff10c6dd",
   "metadata": {},
   "outputs": [
    {
     "data": {
      "image/png": "[encoded data removed]",
      "text/plain": [
       "<Figure size 640x480 with 1 Axes>"
      ]
     },
     "metadata": {},
     "output_type": "display_data"
    }
   ],
   "source": [
    "sns.lineplot(data=plant1_train, x=plant1_train.index, y=plant1_train[\"DAILY_YIELD\"], c=\"blue\")\n",
    "sns.lineplot(data=plant1_test, x=plant1_test.index, y=plant1_test[\"DAILY_YIELD\"], c=\"orange\")\n",
    "plt.title(\"Datetime vs Daily Yield\")\n",
    "plt.xticks(rotation=45)\n",
    "plt.show()"
   ]
  },
  {
   "cell_type": "code",
   "execution_count": 42,
   "id": "5edd1d78",
   "metadata": {},
   "outputs": [],
   "source": [
    "plant2_train = t_reduced_plant2.loc[:split_date]\n",
    "plant2_test = t_reduced_plant2.loc[split_date:]"
   ]
  },
  {
   "cell_type": "code",
   "execution_count": 43,
   "id": "241b4705",
   "metadata": {},
   "outputs": [
    {
     "data": {
      "image/png": "[encoded data removed]",
      "text/plain": [
       "<Figure size 640x480 with 1 Axes>"
      ]
     },
     "metadata": {},
     "output_type": "display_data"
    }
   ],
   "source": [
    "sns.lineplot(data=plant2_train, x=plant2_train.index, y=plant2_train[\"DAILY_YIELD\"], c=\"blue\")\n",
    "sns.lineplot(data=plant2_test, x=plant2_test.index, y=plant2_test[\"DAILY_YIELD\"], c=\"orange\")\n",
    "plt.title(\"Datetime vs Daily Yield\")\n",
    "plt.xticks(rotation=45)\n",
    "plt.show()"
   ]
  },
  {
   "cell_type": "code",
   "execution_count": 44,
   "id": "2aa55d61",
   "metadata": {},
   "outputs": [],
   "source": [
    "def create_features(df):\n",
    "    df = df.copy()\n",
    "    df['hour'] = df.index.hour\n",
    "    df['day_of_week'] = df.index.dayofweek\n",
    "    df['month'] = df.index.month\n",
    "    df['year'] = df.index.year\n",
    "    df['week_of_year'] = df.index.isocalendar().week\n",
    "    return df\n",
    "\n",
    "t_reduced_plant1 = create_features(t_reduced_plant1)\n",
    "plant1_train = create_features(plant1_train)\n",
    "plant1_test = create_features(plant1_test)\n",
    "\n",
    "t_reduced_plant2 = create_features(t_reduced_plant2)\n",
    "plant2_train = create_features(plant2_train)\n",
    "plant2_test = create_features(plant2_test)"
   ]
  },
  {
   "cell_type": "code",
   "execution_count": 45,
   "id": "286dc78a",
   "metadata": {},
   "outputs": [],
   "source": [
    "X_p1_train = plant1_train.iloc[:, 1:]\n",
    "y_p1_train = plant1_train.iloc[:, 0]\n",
    "\n",
    "X_p1_test = plant1_test.iloc[:, 1:]\n",
    "y_p1_test = plant1_test.iloc[:, 0]"
   ]
  },
  {
   "cell_type": "markdown",
   "id": "db7ffcf9",
   "metadata": {},
   "source": [
    "#### XG BOOST REGRESSOR:"
   ]
  },
  {
   "cell_type": "code",
   "execution_count": 46,
   "id": "ba384a55",
   "metadata": {},
   "outputs": [],
   "source": [
    "import xgboost as xgb"
   ]
  },
  {
   "cell_type": "markdown",
   "id": "590b1821",
   "metadata": {},
   "source": [
    "##### PLANT 1:"
   ]
  },
  {
   "cell_type": "code",
   "execution_count": 47,
   "id": "c61f6e5e",
   "metadata": {},
   "outputs": [
    {
     "data": {
      "text/html": [
       "<style>#sk-container-id-1 {color: black;}#sk-container-id-1 pre{padding: 0;}#sk-container-id-1 div.sk-toggleable {background-color: white;}#sk-container-id-1 label.sk-toggleable__label {cursor: pointer;display: block;width: 100%;margin-bottom: 0;padding: 0.3em;box-sizing: border-box;text-align: center;}#sk-container-id-1 label.sk-toggleable__label-arrow:before {content: \"▸\";float: left;margin-right: 0.25em;color: #696969;}#sk-container-id-1 label.sk-toggleable__label-arrow:hover:before {color: black;}#sk-container-id-1 div.sk-estimator:hover label.sk-toggleable__label-arrow:before {color: black;}#sk-container-id-1 div.sk-toggleable__content {max-height: 0;max-width: 0;overflow: hidden;text-align: left;background-color: #f0f8ff;}#sk-container-id-1 div.sk-toggleable__content pre {margin: 0.2em;color: black;border-radius: 0.25em;background-color: #f0f8ff;}#sk-container-id-1 input.sk-toggleable__control:checked~div.sk-toggleable__content {max-height: 200px;max-width: 100%;overflow: auto;}#sk-container-id-1 input.sk-toggleable__control:checked~label.sk-toggleable__label-arrow:before {content: \"▾\";}#sk-container-id-1 div.sk-estimator input.sk-toggleable__control:checked~label.sk-toggleable__label {background-color: #d4ebff;}#sk-container-id-1 div.sk-label input.sk-toggleable__control:checked~label.sk-toggleable__label {background-color: #d4ebff;}#sk-container-id-1 input.sk-hidden--visually {border: 0;clip: rect(1px 1px 1px 1px);clip: rect(1px, 1px, 1px, 1px);height: 1px;margin: -1px;overflow: hidden;padding: 0;position: absolute;width: 1px;}#sk-container-id-1 div.sk-estimator {font-family: monospace;background-color: #f0f8ff;border: 1px dotted black;border-radius: 0.25em;box-sizing: border-box;margin-bottom: 0.5em;}#sk-container-id-1 div.sk-estimator:hover {background-color: #d4ebff;}#sk-container-id-1 div.sk-parallel-item::after {content: \"\";width: 100%;border-bottom: 1px solid gray;flex-grow: 1;}#sk-container-id-1 div.sk-label:hover label.sk-toggleable__label {background-color: #d4ebff;}#sk-container-id-1 div.sk-serial::before {content: \"\";position: absolute;border-left: 1px solid gray;box-sizing: border-box;top: 0;bottom: 0;left: 50%;z-index: 0;}#sk-container-id-1 div.sk-serial {display: flex;flex-direction: column;align-items: center;background-color: white;padding-right: 0.2em;padding-left: 0.2em;position: relative;}#sk-container-id-1 div.sk-item {position: relative;z-index: 1;}#sk-container-id-1 div.sk-parallel {display: flex;align-items: stretch;justify-content: center;background-color: white;position: relative;}#sk-container-id-1 div.sk-item::before, #sk-container-id-1 div.sk-parallel-item::before {content: \"\";position: absolute;border-left: 1px solid gray;box-sizing: border-box;top: 0;bottom: 0;left: 50%;z-index: -1;}#sk-container-id-1 div.sk-parallel-item {display: flex;flex-direction: column;z-index: 1;position: relative;background-color: white;}#sk-container-id-1 div.sk-parallel-item:first-child::after {align-self: flex-end;width: 50%;}#sk-container-id-1 div.sk-parallel-item:last-child::after {align-self: flex-start;width: 50%;}#sk-container-id-1 div.sk-parallel-item:only-child::after {width: 0;}#sk-container-id-1 div.sk-dashed-wrapped {border: 1px dashed gray;margin: 0 0.4em 0.5em 0.4em;box-sizing: border-box;padding-bottom: 0.4em;background-color: white;}#sk-container-id-1 div.sk-label label {font-family: monospace;font-weight: bold;display: inline-block;line-height: 1.2em;}#sk-container-id-1 div.sk-label-container {text-align: center;}#sk-container-id-1 div.sk-container {/* jupyter's `normalize.less` sets `[hidden] { display: none; }` but bootstrap.min.css set `[hidden] { display: none !important; }` so we also need the `!important` here to be able to override the default hidden behavior on the sphinx rendered scikit-learn.org. See: https://github.com/scikit-learn/scikit-learn/issues/21755 */display: inline-block !important;position: relative;}#sk-container-id-1 div.sk-text-repr-fallback {display: none;}</style><div id=\"sk-container-id-1\" class=\"sk-top-container\"><div class=\"sk-text-repr-fallback\"><pre>XGBRegressor(base_score=None, booster=None, callbacks=None,\n",
       "             colsample_bylevel=None, colsample_bynode=None,\n",
       "             colsample_bytree=None, device=None, early_stopping_rounds=None,\n",
       "             enable_categorical=False, eval_metric=None, feature_types=None,\n",
       "             gamma=None, grow_policy=None, importance_type=None,\n",
       "             interaction_constraints=None, learning_rate=0.01, max_bin=None,\n",
       "             max_cat_threshold=None, max_cat_to_onehot=None,\n",
       "             max_delta_step=None, max_depth=None, max_leaves=None,\n",
       "             min_child_weight=None, missing=nan, monotone_constraints=None,\n",
       "             multi_strategy=None, n_estimators=1000, n_jobs=None,\n",
       "             num_parallel_tree=None, random_state=None, ...)</pre><b>In a Jupyter environment, please rerun this cell to show the HTML representation or trust the notebook. <br />On GitHub, the HTML representation is unable to render, please try loading this page with nbviewer.org.</b></div><div class=\"sk-container\" hidden><div class=\"sk-item\"><div class=\"sk-estimator sk-toggleable\"><input class=\"sk-toggleable__control sk-hidden--visually\" id=\"sk-estimator-id-1\" type=\"checkbox\" checked><label for=\"sk-estimator-id-1\" class=\"sk-toggleable__label sk-toggleable__label-arrow\">XGBRegressor</label><div class=\"sk-toggleable__content\"><pre>XGBRegressor(base_score=None, booster=None, callbacks=None,\n",
       "             colsample_bylevel=None, colsample_bynode=None,\n",
       "             colsample_bytree=None, device=None, early_stopping_rounds=None,\n",
       "             enable_categorical=False, eval_metric=None, feature_types=None,\n",
       "             gamma=None, grow_policy=None, importance_type=None,\n",
       "             interaction_constraints=None, learning_rate=0.01, max_bin=None,\n",
       "             max_cat_threshold=None, max_cat_to_onehot=None,\n",
       "             max_delta_step=None, max_depth=None, max_leaves=None,\n",
       "             min_child_weight=None, missing=nan, monotone_constraints=None,\n",
       "             multi_strategy=None, n_estimators=1000, n_jobs=None,\n",
       "             num_parallel_tree=None, random_state=None, ...)</pre></div></div></div></div></div>"
      ],
      "text/plain": [
       "XGBRegressor(base_score=None, booster=None, callbacks=None,\n",
       "             colsample_bylevel=None, colsample_bynode=None,\n",
       "             colsample_bytree=None, device=None, early_stopping_rounds=None,\n",
       "             enable_categorical=False, eval_metric=None, feature_types=None,\n",
       "             gamma=None, grow_policy=None, importance_type=None,\n",
       "             interaction_constraints=None, learning_rate=0.01, max_bin=None,\n",
       "             max_cat_threshold=None, max_cat_to_onehot=None,\n",
       "             max_delta_step=None, max_depth=None, max_leaves=None,\n",
       "             min_child_weight=None, missing=nan, monotone_constraints=None,\n",
       "             multi_strategy=None, n_estimators=1000, n_jobs=None,\n",
       "             num_parallel_tree=None, random_state=None, ...)"
      ]
     },
     "execution_count": 47,
     "metadata": {},
     "output_type": "execute_result"
    }
   ],
   "source": [
    "reg = xgb.XGBRegressor(n_estimators=1000, learning_rate=0.01)\n",
    "reg.fit(X_p1_train, y_p1_train)"
   ]
  },
  {
   "cell_type": "code",
   "execution_count": 48,
   "id": "6210da3e",
   "metadata": {},
   "outputs": [
    {
     "data": {
      "text/plain": [
       "array([  47.04413,   47.04413,   47.04413, ..., 7617.5845 , 7617.5845 ,\n",
       "       7617.5845 ], dtype=float32)"
      ]
     },
     "execution_count": 48,
     "metadata": {},
     "output_type": "execute_result"
    }
   ],
   "source": [
    "predictions = reg.predict(X_p1_test)\n",
    "predictions"
   ]
  },
  {
   "cell_type": "code",
   "execution_count": 49,
   "id": "7d8f7197",
   "metadata": {},
   "outputs": [
    {
     "name": "stdout",
     "output_type": "stream",
     "text": [
      "MSE = 2536624.12\n"
     ]
    }
   ],
   "source": [
    "mse = mean_squared_error(y_p1_test, predictions)\n",
    "print(f\"MSE = {mse:.2f}\")"
   ]
  },
  {
   "cell_type": "code",
   "execution_count": 50,
   "id": "e55f7c06",
   "metadata": {
    "scrolled": true
   },
   "outputs": [
    {
     "data": {
      "image/png": "[encoded data removed]",
      "text/plain": [
       "<Figure size 640x480 with 1 Axes>"
      ]
     },
     "metadata": {},
     "output_type": "display_data"
    }
   ],
   "source": [
    "sns.barplot(x=reg.feature_names_in_, y=reg.feature_importances_).set(xlabel='Feature', ylabel='Importance', title='Feature Importances')\n",
    "plt.show()"
   ]
  },
  {
   "cell_type": "code",
   "execution_count": 51,
   "id": "9b466cef",
   "metadata": {},
   "outputs": [],
   "source": [
    "X_p1_train = plant1_train.iloc[:, 1]\n",
    "y_p1_train = plant1_train.iloc[:, 0]\n",
    "\n",
    "X_p1_test = plant1_test.iloc[:, 1]\n",
    "y_p1_test = plant1_test.iloc[:, 0]"
   ]
  },
  {
   "cell_type": "code",
   "execution_count": 52,
   "id": "9c6f9caf",
   "metadata": {},
   "outputs": [
    {
     "data": {
      "text/html": [
       "<style>#sk-container-id-2 {color: black;}#sk-container-id-2 pre{padding: 0;}#sk-container-id-2 div.sk-toggleable {background-color: white;}#sk-container-id-2 label.sk-toggleable__label {cursor: pointer;display: block;width: 100%;margin-bottom: 0;padding: 0.3em;box-sizing: border-box;text-align: center;}#sk-container-id-2 label.sk-toggleable__label-arrow:before {content: \"▸\";float: left;margin-right: 0.25em;color: #696969;}#sk-container-id-2 label.sk-toggleable__label-arrow:hover:before {color: black;}#sk-container-id-2 div.sk-estimator:hover label.sk-toggleable__label-arrow:before {color: black;}#sk-container-id-2 div.sk-toggleable__content {max-height: 0;max-width: 0;overflow: hidden;text-align: left;background-color: #f0f8ff;}#sk-container-id-2 div.sk-toggleable__content pre {margin: 0.2em;color: black;border-radius: 0.25em;background-color: #f0f8ff;}#sk-container-id-2 input.sk-toggleable__control:checked~div.sk-toggleable__content {max-height: 200px;max-width: 100%;overflow: auto;}#sk-container-id-2 input.sk-toggleable__control:checked~label.sk-toggleable__label-arrow:before {content: \"▾\";}#sk-container-id-2 div.sk-estimator input.sk-toggleable__control:checked~label.sk-toggleable__label {background-color: #d4ebff;}#sk-container-id-2 div.sk-label input.sk-toggleable__control:checked~label.sk-toggleable__label {background-color: #d4ebff;}#sk-container-id-2 input.sk-hidden--visually {border: 0;clip: rect(1px 1px 1px 1px);clip: rect(1px, 1px, 1px, 1px);height: 1px;margin: -1px;overflow: hidden;padding: 0;position: absolute;width: 1px;}#sk-container-id-2 div.sk-estimator {font-family: monospace;background-color: #f0f8ff;border: 1px dotted black;border-radius: 0.25em;box-sizing: border-box;margin-bottom: 0.5em;}#sk-container-id-2 div.sk-estimator:hover {background-color: #d4ebff;}#sk-container-id-2 div.sk-parallel-item::after {content: \"\";width: 100%;border-bottom: 1px solid gray;flex-grow: 1;}#sk-container-id-2 div.sk-label:hover label.sk-toggleable__label {background-color: #d4ebff;}#sk-container-id-2 div.sk-serial::before {content: \"\";position: absolute;border-left: 1px solid gray;box-sizing: border-box;top: 0;bottom: 0;left: 50%;z-index: 0;}#sk-container-id-2 div.sk-serial {display: flex;flex-direction: column;align-items: center;background-color: white;padding-right: 0.2em;padding-left: 0.2em;position: relative;}#sk-container-id-2 div.sk-item {position: relative;z-index: 1;}#sk-container-id-2 div.sk-parallel {display: flex;align-items: stretch;justify-content: center;background-color: white;position: relative;}#sk-container-id-2 div.sk-item::before, #sk-container-id-2 div.sk-parallel-item::before {content: \"\";position: absolute;border-left: 1px solid gray;box-sizing: border-box;top: 0;bottom: 0;left: 50%;z-index: -1;}#sk-container-id-2 div.sk-parallel-item {display: flex;flex-direction: column;z-index: 1;position: relative;background-color: white;}#sk-container-id-2 div.sk-parallel-item:first-child::after {align-self: flex-end;width: 50%;}#sk-container-id-2 div.sk-parallel-item:last-child::after {align-self: flex-start;width: 50%;}#sk-container-id-2 div.sk-parallel-item:only-child::after {width: 0;}#sk-container-id-2 div.sk-dashed-wrapped {border: 1px dashed gray;margin: 0 0.4em 0.5em 0.4em;box-sizing: border-box;padding-bottom: 0.4em;background-color: white;}#sk-container-id-2 div.sk-label label {font-family: monospace;font-weight: bold;display: inline-block;line-height: 1.2em;}#sk-container-id-2 div.sk-label-container {text-align: center;}#sk-container-id-2 div.sk-container {/* jupyter's `normalize.less` sets `[hidden] { display: none; }` but bootstrap.min.css set `[hidden] { display: none !important; }` so we also need the `!important` here to be able to override the default hidden behavior on the sphinx rendered scikit-learn.org. See: https://github.com/scikit-learn/scikit-learn/issues/21755 */display: inline-block !important;position: relative;}#sk-container-id-2 div.sk-text-repr-fallback {display: none;}</style><div id=\"sk-container-id-2\" class=\"sk-top-container\"><div class=\"sk-text-repr-fallback\"><pre>XGBRegressor(base_score=None, booster=None, callbacks=None,\n",
       "             colsample_bylevel=None, colsample_bynode=None,\n",
       "             colsample_bytree=None, device=None, early_stopping_rounds=None,\n",
       "             enable_categorical=False, eval_metric=None, feature_types=None,\n",
       "             gamma=None, grow_policy=None, importance_type=None,\n",
       "             interaction_constraints=None, learning_rate=0.01, max_bin=None,\n",
       "             max_cat_threshold=None, max_cat_to_onehot=None,\n",
       "             max_delta_step=None, max_depth=None, max_leaves=None,\n",
       "             min_child_weight=None, missing=nan, monotone_constraints=None,\n",
       "             multi_strategy=None, n_estimators=1000, n_jobs=None,\n",
       "             num_parallel_tree=None, random_state=None, ...)</pre><b>In a Jupyter environment, please rerun this cell to show the HTML representation or trust the notebook. <br />On GitHub, the HTML representation is unable to render, please try loading this page with nbviewer.org.</b></div><div class=\"sk-container\" hidden><div class=\"sk-item\"><div class=\"sk-estimator sk-toggleable\"><input class=\"sk-toggleable__control sk-hidden--visually\" id=\"sk-estimator-id-2\" type=\"checkbox\" checked><label for=\"sk-estimator-id-2\" class=\"sk-toggleable__label sk-toggleable__label-arrow\">XGBRegressor</label><div class=\"sk-toggleable__content\"><pre>XGBRegressor(base_score=None, booster=None, callbacks=None,\n",
       "             colsample_bylevel=None, colsample_bynode=None,\n",
       "             colsample_bytree=None, device=None, early_stopping_rounds=None,\n",
       "             enable_categorical=False, eval_metric=None, feature_types=None,\n",
       "             gamma=None, grow_policy=None, importance_type=None,\n",
       "             interaction_constraints=None, learning_rate=0.01, max_bin=None,\n",
       "             max_cat_threshold=None, max_cat_to_onehot=None,\n",
       "             max_delta_step=None, max_depth=None, max_leaves=None,\n",
       "             min_child_weight=None, missing=nan, monotone_constraints=None,\n",
       "             multi_strategy=None, n_estimators=1000, n_jobs=None,\n",
       "             num_parallel_tree=None, random_state=None, ...)</pre></div></div></div></div></div>"
      ],
      "text/plain": [
       "XGBRegressor(base_score=None, booster=None, callbacks=None,\n",
       "             colsample_bylevel=None, colsample_bynode=None,\n",
       "             colsample_bytree=None, device=None, early_stopping_rounds=None,\n",
       "             enable_categorical=False, eval_metric=None, feature_types=None,\n",
       "             gamma=None, grow_policy=None, importance_type=None,\n",
       "             interaction_constraints=None, learning_rate=0.01, max_bin=None,\n",
       "             max_cat_threshold=None, max_cat_to_onehot=None,\n",
       "             max_delta_step=None, max_depth=None, max_leaves=None,\n",
       "             min_child_weight=None, missing=nan, monotone_constraints=None,\n",
       "             multi_strategy=None, n_estimators=1000, n_jobs=None,\n",
       "             num_parallel_tree=None, random_state=None, ...)"
      ]
     },
     "execution_count": 52,
     "metadata": {},
     "output_type": "execute_result"
    }
   ],
   "source": [
    "reg = xgb.XGBRegressor(n_estimators=1000, learning_rate=0.01)\n",
    "reg.fit(X_p1_train, y_p1_train)"
   ]
  },
  {
   "cell_type": "code",
   "execution_count": 53,
   "id": "0011be39",
   "metadata": {},
   "outputs": [
    {
     "data": {
      "text/plain": [
       "array([  25.496717,   25.496717,   25.496717, ..., 4983.6963  ,\n",
       "       4983.6963  , 4983.6963  ], dtype=float32)"
      ]
     },
     "execution_count": 53,
     "metadata": {},
     "output_type": "execute_result"
    }
   ],
   "source": [
    "predictions = reg.predict(X_p1_test)\n",
    "predictions"
   ]
  },
  {
   "cell_type": "code",
   "execution_count": 54,
   "id": "3266355e",
   "metadata": {},
   "outputs": [
    {
     "name": "stdout",
     "output_type": "stream",
     "text": [
      "RMSE = 1128.25\n"
     ]
    }
   ],
   "source": [
    "rmse = np.sqrt(mean_squared_error(y_p1_test, predictions))\n",
    "print(f\"RMSE = {rmse:.2f}\")"
   ]
  },
  {
   "cell_type": "code",
   "execution_count": 55,
   "id": "85a02e32",
   "metadata": {},
   "outputs": [
    {
     "name": "stdout",
     "output_type": "stream",
     "text": [
      "Fitting 5 folds for each of 9 candidates, totalling 45 fits\n",
      "[CV] END ...............learning_rate=0.01, n_estimators=100; total time=   0.2s\n",
      "[CV] END ...............learning_rate=0.01, n_estimators=100; total time=   0.2s\n",
      "[CV] END ...............learning_rate=0.01, n_estimators=100; total time=   0.2s\n",
      "[CV] END ...............learning_rate=0.01, n_estimators=100; total time=   0.2s\n",
      "[CV] END ...............learning_rate=0.01, n_estimators=100; total time=   0.2s\n",
      "[CV] END ...............learning_rate=0.01, n_estimators=500; total time=   1.1s\n",
      "[CV] END ...............learning_rate=0.01, n_estimators=500; total time=   1.2s\n",
      "[CV] END ...............learning_rate=0.01, n_estimators=500; total time=   1.1s\n",
      "[CV] END ...............learning_rate=0.01, n_estimators=500; total time=   1.1s\n",
      "[CV] END ...............learning_rate=0.01, n_estimators=500; total time=   1.1s\n",
      "[CV] END ..............learning_rate=0.01, n_estimators=1000; total time=   2.0s\n",
      "[CV] END ..............learning_rate=0.01, n_estimators=1000; total time=   2.3s\n",
      "[CV] END ..............learning_rate=0.01, n_estimators=1000; total time=   2.3s\n",
      "[CV] END ..............learning_rate=0.01, n_estimators=1000; total time=   2.3s\n",
      "[CV] END ..............learning_rate=0.01, n_estimators=1000; total time=   2.3s\n",
      "[CV] END ...............learning_rate=0.05, n_estimators=100; total time=   0.2s\n",
      "[CV] END ...............learning_rate=0.05, n_estimators=100; total time=   0.2s\n",
      "[CV] END ...............learning_rate=0.05, n_estimators=100; total time=   0.2s\n",
      "[CV] END ...............learning_rate=0.05, n_estimators=100; total time=   0.2s\n",
      "[CV] END ...............learning_rate=0.05, n_estimators=100; total time=   0.2s\n",
      "[CV] END ...............learning_rate=0.05, n_estimators=500; total time=   1.1s\n",
      "[CV] END ...............learning_rate=0.05, n_estimators=500; total time=   1.1s\n",
      "[CV] END ...............learning_rate=0.05, n_estimators=500; total time=   1.1s\n",
      "[CV] END ...............learning_rate=0.05, n_estimators=500; total time=   1.1s\n",
      "[CV] END ...............learning_rate=0.05, n_estimators=500; total time=   1.1s\n",
      "[CV] END ..............learning_rate=0.05, n_estimators=1000; total time=   2.2s\n",
      "[CV] END ..............learning_rate=0.05, n_estimators=1000; total time=   2.1s\n",
      "[CV] END ..............learning_rate=0.05, n_estimators=1000; total time=   2.2s\n",
      "[CV] END ..............learning_rate=0.05, n_estimators=1000; total time=   2.1s\n",
      "[CV] END ..............learning_rate=0.05, n_estimators=1000; total time=   2.2s\n",
      "[CV] END ................learning_rate=0.1, n_estimators=100; total time=   0.2s\n",
      "[CV] END ................learning_rate=0.1, n_estimators=100; total time=   0.2s\n",
      "[CV] END ................learning_rate=0.1, n_estimators=100; total time=   0.2s\n",
      "[CV] END ................learning_rate=0.1, n_estimators=100; total time=   0.2s\n",
      "[CV] END ................learning_rate=0.1, n_estimators=100; total time=   0.2s\n",
      "[CV] END ................learning_rate=0.1, n_estimators=500; total time=   1.1s\n",
      "[CV] END ................learning_rate=0.1, n_estimators=500; total time=   1.1s\n",
      "[CV] END ................learning_rate=0.1, n_estimators=500; total time=   1.1s\n",
      "[CV] END ................learning_rate=0.1, n_estimators=500; total time=   1.0s\n",
      "[CV] END ................learning_rate=0.1, n_estimators=500; total time=   1.1s\n",
      "[CV] END ...............learning_rate=0.1, n_estimators=1000; total time=   2.2s\n",
      "[CV] END ...............learning_rate=0.1, n_estimators=1000; total time=   2.2s\n",
      "[CV] END ...............learning_rate=0.1, n_estimators=1000; total time=   2.3s\n",
      "[CV] END ...............learning_rate=0.1, n_estimators=1000; total time=   2.1s\n",
      "[CV] END ...............learning_rate=0.1, n_estimators=1000; total time=   2.1s\n",
      "Best parameters: {'learning_rate': 0.01, 'n_estimators': 500}\n",
      "Mean Squared Error on test set: 1282434.1400564422\n"
     ]
    }
   ],
   "source": [
    "model = xgb.XGBRegressor()\n",
    "param_grid = {\n",
    "    'n_estimators': [100, 500, 1000],\n",
    "    'learning_rate': [0.01, 0.05, 0.1],\n",
    "}\n",
    "\n",
    "grid_search = GridSearchCV(estimator=model, param_grid=param_grid, cv=5, scoring='neg_mean_squared_error', verbose=2)\n",
    "grid_search.fit(X_p1_train, y_p1_train)\n",
    "\n",
    "print(\"Best parameters:\", grid_search.best_params_)\n",
    "\n",
    "best_model = grid_search.best_estimator_\n",
    "\n",
    "test_predictions = best_model.predict(X_p1_test)\n",
    "mse = np.mean((test_predictions - y_p1_test) ** 2)\n",
    "print(\"Mean Squared Error on test set:\", mse)"
   ]
  },
  {
   "cell_type": "markdown",
   "id": "502dab28",
   "metadata": {},
   "source": [
    "The best model for plant 1 is XGBoostRegressor with only the feature hour, n_estimators=1000 and learning rate=0.01"
   ]
  },
  {
   "cell_type": "markdown",
   "id": "a632bbcd",
   "metadata": {},
   "source": [
    "##### PLANT 2:"
   ]
  },
  {
   "cell_type": "code",
   "execution_count": 56,
   "id": "3474a095",
   "metadata": {},
   "outputs": [
    {
     "data": {
      "text/html": [
       "<div>\n",
       "<style scoped>\n",
       "    .dataframe tbody tr th:only-of-type {\n",
       "        vertical-align: middle;\n",
       "    }\n",
       "\n",
       "    .dataframe tbody tr th {\n",
       "        vertical-align: top;\n",
       "    }\n",
       "\n",
       "    .dataframe thead th {\n",
       "        text-align: right;\n",
       "    }\n",
       "</style>\n",
       "<table border=\"1\" class=\"dataframe\">\n",
       "  <thead>\n",
       "    <tr style=\"text-align: right;\">\n",
       "      <th></th>\n",
       "      <th>DAILY_YIELD</th>\n",
       "      <th>hour</th>\n",
       "      <th>day_of_week</th>\n",
       "      <th>month</th>\n",
       "      <th>year</th>\n",
       "      <th>week_of_year</th>\n",
       "    </tr>\n",
       "    <tr>\n",
       "      <th>DATE_TIME</th>\n",
       "      <th></th>\n",
       "      <th></th>\n",
       "      <th></th>\n",
       "      <th></th>\n",
       "      <th></th>\n",
       "      <th></th>\n",
       "    </tr>\n",
       "  </thead>\n",
       "  <tbody>\n",
       "    <tr>\n",
       "      <th>2020-05-15 00:00:00</th>\n",
       "      <td>9425.000000</td>\n",
       "      <td>0</td>\n",
       "      <td>4</td>\n",
       "      <td>5</td>\n",
       "      <td>2020</td>\n",
       "      <td>20</td>\n",
       "    </tr>\n",
       "    <tr>\n",
       "      <th>2020-05-15 00:00:00</th>\n",
       "      <td>9425.000000</td>\n",
       "      <td>0</td>\n",
       "      <td>4</td>\n",
       "      <td>5</td>\n",
       "      <td>2020</td>\n",
       "      <td>20</td>\n",
       "    </tr>\n",
       "    <tr>\n",
       "      <th>2020-05-15 00:00:00</th>\n",
       "      <td>9425.000000</td>\n",
       "      <td>0</td>\n",
       "      <td>4</td>\n",
       "      <td>5</td>\n",
       "      <td>2020</td>\n",
       "      <td>20</td>\n",
       "    </tr>\n",
       "    <tr>\n",
       "      <th>2020-05-15 00:00:00</th>\n",
       "      <td>9425.000000</td>\n",
       "      <td>0</td>\n",
       "      <td>4</td>\n",
       "      <td>5</td>\n",
       "      <td>2020</td>\n",
       "      <td>20</td>\n",
       "    </tr>\n",
       "    <tr>\n",
       "      <th>2020-05-15 00:00:00</th>\n",
       "      <td>9425.000000</td>\n",
       "      <td>0</td>\n",
       "      <td>4</td>\n",
       "      <td>5</td>\n",
       "      <td>2020</td>\n",
       "      <td>20</td>\n",
       "    </tr>\n",
       "    <tr>\n",
       "      <th>...</th>\n",
       "      <td>...</td>\n",
       "      <td>...</td>\n",
       "      <td>...</td>\n",
       "      <td>...</td>\n",
       "      <td>...</td>\n",
       "      <td>...</td>\n",
       "    </tr>\n",
       "    <tr>\n",
       "      <th>2020-06-06 23:45:00</th>\n",
       "      <td>1078.000000</td>\n",
       "      <td>23</td>\n",
       "      <td>5</td>\n",
       "      <td>6</td>\n",
       "      <td>2020</td>\n",
       "      <td>23</td>\n",
       "    </tr>\n",
       "    <tr>\n",
       "      <th>2020-06-06 23:45:00</th>\n",
       "      <td>4292.428571</td>\n",
       "      <td>23</td>\n",
       "      <td>5</td>\n",
       "      <td>6</td>\n",
       "      <td>2020</td>\n",
       "      <td>23</td>\n",
       "    </tr>\n",
       "    <tr>\n",
       "      <th>2020-06-06 23:45:00</th>\n",
       "      <td>4162.533333</td>\n",
       "      <td>23</td>\n",
       "      <td>5</td>\n",
       "      <td>6</td>\n",
       "      <td>2020</td>\n",
       "      <td>23</td>\n",
       "    </tr>\n",
       "    <tr>\n",
       "      <th>2020-06-06 23:45:00</th>\n",
       "      <td>4616.133333</td>\n",
       "      <td>23</td>\n",
       "      <td>5</td>\n",
       "      <td>6</td>\n",
       "      <td>2020</td>\n",
       "      <td>23</td>\n",
       "    </tr>\n",
       "    <tr>\n",
       "      <th>2020-06-06 23:45:00</th>\n",
       "      <td>1079.000000</td>\n",
       "      <td>23</td>\n",
       "      <td>5</td>\n",
       "      <td>6</td>\n",
       "      <td>2020</td>\n",
       "      <td>23</td>\n",
       "    </tr>\n",
       "  </tbody>\n",
       "</table>\n",
       "<p>112548 rows × 6 columns</p>\n",
       "</div>"
      ],
      "text/plain": [
       "                     DAILY_YIELD  hour  day_of_week  month  year  week_of_year\n",
       "DATE_TIME                                                                     \n",
       "2020-05-15 00:00:00  9425.000000     0            4      5  2020            20\n",
       "2020-05-15 00:00:00  9425.000000     0            4      5  2020            20\n",
       "2020-05-15 00:00:00  9425.000000     0            4      5  2020            20\n",
       "2020-05-15 00:00:00  9425.000000     0            4      5  2020            20\n",
       "2020-05-15 00:00:00  9425.000000     0            4      5  2020            20\n",
       "...                          ...   ...          ...    ...   ...           ...\n",
       "2020-06-06 23:45:00  1078.000000    23            5      6  2020            23\n",
       "2020-06-06 23:45:00  4292.428571    23            5      6  2020            23\n",
       "2020-06-06 23:45:00  4162.533333    23            5      6  2020            23\n",
       "2020-06-06 23:45:00  4616.133333    23            5      6  2020            23\n",
       "2020-06-06 23:45:00  1079.000000    23            5      6  2020            23\n",
       "\n",
       "[112548 rows x 6 columns]"
      ]
     },
     "execution_count": 56,
     "metadata": {},
     "output_type": "execute_result"
    }
   ],
   "source": [
    "plant2_train"
   ]
  },
  {
   "cell_type": "code",
   "execution_count": 57,
   "id": "4354e71c",
   "metadata": {},
   "outputs": [],
   "source": [
    "X_p2_train = plant2_train.iloc[:, 1:]\n",
    "y_p2_train = plant2_train.iloc[:, 0]\n",
    "\n",
    "X_p2_test = plant2_test.iloc[:, 1:]\n",
    "y_p2_test = plant2_test.iloc[:, 0]"
   ]
  },
  {
   "cell_type": "code",
   "execution_count": 58,
   "id": "92271fc9",
   "metadata": {},
   "outputs": [
    {
     "data": {
      "text/html": [
       "<style>#sk-container-id-3 {color: black;}#sk-container-id-3 pre{padding: 0;}#sk-container-id-3 div.sk-toggleable {background-color: white;}#sk-container-id-3 label.sk-toggleable__label {cursor: pointer;display: block;width: 100%;margin-bottom: 0;padding: 0.3em;box-sizing: border-box;text-align: center;}#sk-container-id-3 label.sk-toggleable__label-arrow:before {content: \"▸\";float: left;margin-right: 0.25em;color: #696969;}#sk-container-id-3 label.sk-toggleable__label-arrow:hover:before {color: black;}#sk-container-id-3 div.sk-estimator:hover label.sk-toggleable__label-arrow:before {color: black;}#sk-container-id-3 div.sk-toggleable__content {max-height: 0;max-width: 0;overflow: hidden;text-align: left;background-color: #f0f8ff;}#sk-container-id-3 div.sk-toggleable__content pre {margin: 0.2em;color: black;border-radius: 0.25em;background-color: #f0f8ff;}#sk-container-id-3 input.sk-toggleable__control:checked~div.sk-toggleable__content {max-height: 200px;max-width: 100%;overflow: auto;}#sk-container-id-3 input.sk-toggleable__control:checked~label.sk-toggleable__label-arrow:before {content: \"▾\";}#sk-container-id-3 div.sk-estimator input.sk-toggleable__control:checked~label.sk-toggleable__label {background-color: #d4ebff;}#sk-container-id-3 div.sk-label input.sk-toggleable__control:checked~label.sk-toggleable__label {background-color: #d4ebff;}#sk-container-id-3 input.sk-hidden--visually {border: 0;clip: rect(1px 1px 1px 1px);clip: rect(1px, 1px, 1px, 1px);height: 1px;margin: -1px;overflow: hidden;padding: 0;position: absolute;width: 1px;}#sk-container-id-3 div.sk-estimator {font-family: monospace;background-color: #f0f8ff;border: 1px dotted black;border-radius: 0.25em;box-sizing: border-box;margin-bottom: 0.5em;}#sk-container-id-3 div.sk-estimator:hover {background-color: #d4ebff;}#sk-container-id-3 div.sk-parallel-item::after {content: \"\";width: 100%;border-bottom: 1px solid gray;flex-grow: 1;}#sk-container-id-3 div.sk-label:hover label.sk-toggleable__label {background-color: #d4ebff;}#sk-container-id-3 div.sk-serial::before {content: \"\";position: absolute;border-left: 1px solid gray;box-sizing: border-box;top: 0;bottom: 0;left: 50%;z-index: 0;}#sk-container-id-3 div.sk-serial {display: flex;flex-direction: column;align-items: center;background-color: white;padding-right: 0.2em;padding-left: 0.2em;position: relative;}#sk-container-id-3 div.sk-item {position: relative;z-index: 1;}#sk-container-id-3 div.sk-parallel {display: flex;align-items: stretch;justify-content: center;background-color: white;position: relative;}#sk-container-id-3 div.sk-item::before, #sk-container-id-3 div.sk-parallel-item::before {content: \"\";position: absolute;border-left: 1px solid gray;box-sizing: border-box;top: 0;bottom: 0;left: 50%;z-index: -1;}#sk-container-id-3 div.sk-parallel-item {display: flex;flex-direction: column;z-index: 1;position: relative;background-color: white;}#sk-container-id-3 div.sk-parallel-item:first-child::after {align-self: flex-end;width: 50%;}#sk-container-id-3 div.sk-parallel-item:last-child::after {align-self: flex-start;width: 50%;}#sk-container-id-3 div.sk-parallel-item:only-child::after {width: 0;}#sk-container-id-3 div.sk-dashed-wrapped {border: 1px dashed gray;margin: 0 0.4em 0.5em 0.4em;box-sizing: border-box;padding-bottom: 0.4em;background-color: white;}#sk-container-id-3 div.sk-label label {font-family: monospace;font-weight: bold;display: inline-block;line-height: 1.2em;}#sk-container-id-3 div.sk-label-container {text-align: center;}#sk-container-id-3 div.sk-container {/* jupyter's `normalize.less` sets `[hidden] { display: none; }` but bootstrap.min.css set `[hidden] { display: none !important; }` so we also need the `!important` here to be able to override the default hidden behavior on the sphinx rendered scikit-learn.org. See: https://github.com/scikit-learn/scikit-learn/issues/21755 */display: inline-block !important;position: relative;}#sk-container-id-3 div.sk-text-repr-fallback {display: none;}</style><div id=\"sk-container-id-3\" class=\"sk-top-container\"><div class=\"sk-text-repr-fallback\"><pre>XGBRegressor(base_score=None, booster=None, callbacks=None,\n",
       "             colsample_bylevel=None, colsample_bynode=None,\n",
       "             colsample_bytree=None, device=None, early_stopping_rounds=None,\n",
       "             enable_categorical=False, eval_metric=None, feature_types=None,\n",
       "             gamma=None, grow_policy=None, importance_type=None,\n",
       "             interaction_constraints=None, learning_rate=0.01, max_bin=None,\n",
       "             max_cat_threshold=None, max_cat_to_onehot=None,\n",
       "             max_delta_step=None, max_depth=None, max_leaves=None,\n",
       "             min_child_weight=None, missing=nan, monotone_constraints=None,\n",
       "             multi_strategy=None, n_estimators=1000, n_jobs=None,\n",
       "             num_parallel_tree=None, random_state=None, ...)</pre><b>In a Jupyter environment, please rerun this cell to show the HTML representation or trust the notebook. <br />On GitHub, the HTML representation is unable to render, please try loading this page with nbviewer.org.</b></div><div class=\"sk-container\" hidden><div class=\"sk-item\"><div class=\"sk-estimator sk-toggleable\"><input class=\"sk-toggleable__control sk-hidden--visually\" id=\"sk-estimator-id-3\" type=\"checkbox\" checked><label for=\"sk-estimator-id-3\" class=\"sk-toggleable__label sk-toggleable__label-arrow\">XGBRegressor</label><div class=\"sk-toggleable__content\"><pre>XGBRegressor(base_score=None, booster=None, callbacks=None,\n",
       "             colsample_bylevel=None, colsample_bynode=None,\n",
       "             colsample_bytree=None, device=None, early_stopping_rounds=None,\n",
       "             enable_categorical=False, eval_metric=None, feature_types=None,\n",
       "             gamma=None, grow_policy=None, importance_type=None,\n",
       "             interaction_constraints=None, learning_rate=0.01, max_bin=None,\n",
       "             max_cat_threshold=None, max_cat_to_onehot=None,\n",
       "             max_delta_step=None, max_depth=None, max_leaves=None,\n",
       "             min_child_weight=None, missing=nan, monotone_constraints=None,\n",
       "             multi_strategy=None, n_estimators=1000, n_jobs=None,\n",
       "             num_parallel_tree=None, random_state=None, ...)</pre></div></div></div></div></div>"
      ],
      "text/plain": [
       "XGBRegressor(base_score=None, booster=None, callbacks=None,\n",
       "             colsample_bylevel=None, colsample_bynode=None,\n",
       "             colsample_bytree=None, device=None, early_stopping_rounds=None,\n",
       "             enable_categorical=False, eval_metric=None, feature_types=None,\n",
       "             gamma=None, grow_policy=None, importance_type=None,\n",
       "             interaction_constraints=None, learning_rate=0.01, max_bin=None,\n",
       "             max_cat_threshold=None, max_cat_to_onehot=None,\n",
       "             max_delta_step=None, max_depth=None, max_leaves=None,\n",
       "             min_child_weight=None, missing=nan, monotone_constraints=None,\n",
       "             multi_strategy=None, n_estimators=1000, n_jobs=None,\n",
       "             num_parallel_tree=None, random_state=None, ...)"
      ]
     },
     "execution_count": 58,
     "metadata": {},
     "output_type": "execute_result"
    }
   ],
   "source": [
    "reg = xgb.XGBRegressor(n_estimators=1000, learning_rate=0.01)\n",
    "reg.fit(X_p2_train, y_p2_train)"
   ]
  },
  {
   "cell_type": "code",
   "execution_count": 59,
   "id": "fd19a3ea",
   "metadata": {},
   "outputs": [
    {
     "data": {
      "text/plain": [
       "array([3644.4348, 3644.4348, 3644.4348, ...,  975.2371,  975.2371,\n",
       "        975.2371], dtype=float32)"
      ]
     },
     "execution_count": 59,
     "metadata": {},
     "output_type": "execute_result"
    }
   ],
   "source": [
    "predictions = reg.predict(X_p2_test)\n",
    "predictions"
   ]
  },
  {
   "cell_type": "code",
   "execution_count": 60,
   "id": "4f6bce83",
   "metadata": {},
   "outputs": [
    {
     "name": "stdout",
     "output_type": "stream",
     "text": [
      "RMSE = 2466.05\n"
     ]
    }
   ],
   "source": [
    "rmse = np.sqrt(mean_squared_error(y_p2_test, predictions))\n",
    "print(f\"RMSE = {rmse:.2f}\")"
   ]
  },
  {
   "cell_type": "code",
   "execution_count": 61,
   "id": "742a6531",
   "metadata": {},
   "outputs": [
    {
     "data": {
      "image/png": "[encoded data removed]",
      "text/plain": [
       "<Figure size 640x480 with 1 Axes>"
      ]
     },
     "metadata": {},
     "output_type": "display_data"
    }
   ],
   "source": [
    "sns.barplot(x=reg.feature_names_in_, y=reg.feature_importances_).set(xlabel='Feature', ylabel='Importance', title='Feature Importances')\n",
    "plt.show()"
   ]
  },
  {
   "cell_type": "code",
   "execution_count": 62,
   "id": "fb2a19cf",
   "metadata": {},
   "outputs": [],
   "source": [
    "X_p2_train = plant2_train.drop(['year', 'month'], axis=1)\n",
    "y_p2_train = plant2_train.iloc[:, 0]\n",
    "\n",
    "X_p2_test = plant2_test.drop(['year', 'month'], axis=1)\n",
    "y_p2_test = plant2_test.iloc[:, 0]"
   ]
  },
  {
   "cell_type": "code",
   "execution_count": 63,
   "id": "6a239846",
   "metadata": {},
   "outputs": [
    {
     "data": {
      "text/html": [
       "<style>#sk-container-id-4 {color: black;}#sk-container-id-4 pre{padding: 0;}#sk-container-id-4 div.sk-toggleable {background-color: white;}#sk-container-id-4 label.sk-toggleable__label {cursor: pointer;display: block;width: 100%;margin-bottom: 0;padding: 0.3em;box-sizing: border-box;text-align: center;}#sk-container-id-4 label.sk-toggleable__label-arrow:before {content: \"▸\";float: left;margin-right: 0.25em;color: #696969;}#sk-container-id-4 label.sk-toggleable__label-arrow:hover:before {color: black;}#sk-container-id-4 div.sk-estimator:hover label.sk-toggleable__label-arrow:before {color: black;}#sk-container-id-4 div.sk-toggleable__content {max-height: 0;max-width: 0;overflow: hidden;text-align: left;background-color: #f0f8ff;}#sk-container-id-4 div.sk-toggleable__content pre {margin: 0.2em;color: black;border-radius: 0.25em;background-color: #f0f8ff;}#sk-container-id-4 input.sk-toggleable__control:checked~div.sk-toggleable__content {max-height: 200px;max-width: 100%;overflow: auto;}#sk-container-id-4 input.sk-toggleable__control:checked~label.sk-toggleable__label-arrow:before {content: \"▾\";}#sk-container-id-4 div.sk-estimator input.sk-toggleable__control:checked~label.sk-toggleable__label {background-color: #d4ebff;}#sk-container-id-4 div.sk-label input.sk-toggleable__control:checked~label.sk-toggleable__label {background-color: #d4ebff;}#sk-container-id-4 input.sk-hidden--visually {border: 0;clip: rect(1px 1px 1px 1px);clip: rect(1px, 1px, 1px, 1px);height: 1px;margin: -1px;overflow: hidden;padding: 0;position: absolute;width: 1px;}#sk-container-id-4 div.sk-estimator {font-family: monospace;background-color: #f0f8ff;border: 1px dotted black;border-radius: 0.25em;box-sizing: border-box;margin-bottom: 0.5em;}#sk-container-id-4 div.sk-estimator:hover {background-color: #d4ebff;}#sk-container-id-4 div.sk-parallel-item::after {content: \"\";width: 100%;border-bottom: 1px solid gray;flex-grow: 1;}#sk-container-id-4 div.sk-label:hover label.sk-toggleable__label {background-color: #d4ebff;}#sk-container-id-4 div.sk-serial::before {content: \"\";position: absolute;border-left: 1px solid gray;box-sizing: border-box;top: 0;bottom: 0;left: 50%;z-index: 0;}#sk-container-id-4 div.sk-serial {display: flex;flex-direction: column;align-items: center;background-color: white;padding-right: 0.2em;padding-left: 0.2em;position: relative;}#sk-container-id-4 div.sk-item {position: relative;z-index: 1;}#sk-container-id-4 div.sk-parallel {display: flex;align-items: stretch;justify-content: center;background-color: white;position: relative;}#sk-container-id-4 div.sk-item::before, #sk-container-id-4 div.sk-parallel-item::before {content: \"\";position: absolute;border-left: 1px solid gray;box-sizing: border-box;top: 0;bottom: 0;left: 50%;z-index: -1;}#sk-container-id-4 div.sk-parallel-item {display: flex;flex-direction: column;z-index: 1;position: relative;background-color: white;}#sk-container-id-4 div.sk-parallel-item:first-child::after {align-self: flex-end;width: 50%;}#sk-container-id-4 div.sk-parallel-item:last-child::after {align-self: flex-start;width: 50%;}#sk-container-id-4 div.sk-parallel-item:only-child::after {width: 0;}#sk-container-id-4 div.sk-dashed-wrapped {border: 1px dashed gray;margin: 0 0.4em 0.5em 0.4em;box-sizing: border-box;padding-bottom: 0.4em;background-color: white;}#sk-container-id-4 div.sk-label label {font-family: monospace;font-weight: bold;display: inline-block;line-height: 1.2em;}#sk-container-id-4 div.sk-label-container {text-align: center;}#sk-container-id-4 div.sk-container {/* jupyter's `normalize.less` sets `[hidden] { display: none; }` but bootstrap.min.css set `[hidden] { display: none !important; }` so we also need the `!important` here to be able to override the default hidden behavior on the sphinx rendered scikit-learn.org. See: https://github.com/scikit-learn/scikit-learn/issues/21755 */display: inline-block !important;position: relative;}#sk-container-id-4 div.sk-text-repr-fallback {display: none;}</style><div id=\"sk-container-id-4\" class=\"sk-top-container\"><div class=\"sk-text-repr-fallback\"><pre>XGBRegressor(base_score=None, booster=None, callbacks=None,\n",
       "             colsample_bylevel=None, colsample_bynode=None,\n",
       "             colsample_bytree=None, device=None, early_stopping_rounds=None,\n",
       "             enable_categorical=False, eval_metric=None, feature_types=None,\n",
       "             gamma=None, grow_policy=None, importance_type=None,\n",
       "             interaction_constraints=None, learning_rate=0.01, max_bin=None,\n",
       "             max_cat_threshold=None, max_cat_to_onehot=None,\n",
       "             max_delta_step=None, max_depth=None, max_leaves=None,\n",
       "             min_child_weight=None, missing=nan, monotone_constraints=None,\n",
       "             multi_strategy=None, n_estimators=1000, n_jobs=None,\n",
       "             num_parallel_tree=None, random_state=None, ...)</pre><b>In a Jupyter environment, please rerun this cell to show the HTML representation or trust the notebook. <br />On GitHub, the HTML representation is unable to render, please try loading this page with nbviewer.org.</b></div><div class=\"sk-container\" hidden><div class=\"sk-item\"><div class=\"sk-estimator sk-toggleable\"><input class=\"sk-toggleable__control sk-hidden--visually\" id=\"sk-estimator-id-4\" type=\"checkbox\" checked><label for=\"sk-estimator-id-4\" class=\"sk-toggleable__label sk-toggleable__label-arrow\">XGBRegressor</label><div class=\"sk-toggleable__content\"><pre>XGBRegressor(base_score=None, booster=None, callbacks=None,\n",
       "             colsample_bylevel=None, colsample_bynode=None,\n",
       "             colsample_bytree=None, device=None, early_stopping_rounds=None,\n",
       "             enable_categorical=False, eval_metric=None, feature_types=None,\n",
       "             gamma=None, grow_policy=None, importance_type=None,\n",
       "             interaction_constraints=None, learning_rate=0.01, max_bin=None,\n",
       "             max_cat_threshold=None, max_cat_to_onehot=None,\n",
       "             max_delta_step=None, max_depth=None, max_leaves=None,\n",
       "             min_child_weight=None, missing=nan, monotone_constraints=None,\n",
       "             multi_strategy=None, n_estimators=1000, n_jobs=None,\n",
       "             num_parallel_tree=None, random_state=None, ...)</pre></div></div></div></div></div>"
      ],
      "text/plain": [
       "XGBRegressor(base_score=None, booster=None, callbacks=None,\n",
       "             colsample_bylevel=None, colsample_bynode=None,\n",
       "             colsample_bytree=None, device=None, early_stopping_rounds=None,\n",
       "             enable_categorical=False, eval_metric=None, feature_types=None,\n",
       "             gamma=None, grow_policy=None, importance_type=None,\n",
       "             interaction_constraints=None, learning_rate=0.01, max_bin=None,\n",
       "             max_cat_threshold=None, max_cat_to_onehot=None,\n",
       "             max_delta_step=None, max_depth=None, max_leaves=None,\n",
       "             min_child_weight=None, missing=nan, monotone_constraints=None,\n",
       "             multi_strategy=None, n_estimators=1000, n_jobs=None,\n",
       "             num_parallel_tree=None, random_state=None, ...)"
      ]
     },
     "execution_count": 63,
     "metadata": {},
     "output_type": "execute_result"
    }
   ],
   "source": [
    "reg = xgb.XGBRegressor(n_estimators=1000, learning_rate=0.01)\n",
    "reg.fit(X_p2_train, y_p2_train)"
   ]
  },
  {
   "cell_type": "code",
   "execution_count": 64,
   "id": "b4d58308",
   "metadata": {},
   "outputs": [
    {
     "data": {
      "text/plain": [
       "array([1067.047 , 5523.4956, 5374.6084, ..., 4315.8247, 4209.1377,\n",
       "       4315.8247], dtype=float32)"
      ]
     },
     "execution_count": 64,
     "metadata": {},
     "output_type": "execute_result"
    }
   ],
   "source": [
    "predictions = reg.predict(X_p2_test)\n",
    "predictions"
   ]
  },
  {
   "cell_type": "code",
   "execution_count": 65,
   "id": "981b0ef7",
   "metadata": {},
   "outputs": [
    {
     "name": "stdout",
     "output_type": "stream",
     "text": [
      "RMSE = 15.60\n"
     ]
    }
   ],
   "source": [
    "rmse = np.sqrt(mean_squared_error(y_p2_test, predictions))\n",
    "print(f\"RMSE = {rmse:.2f}\")"
   ]
  },
  {
   "cell_type": "markdown",
   "id": "4abd5c60",
   "metadata": {},
   "source": [
    "The best model for Plant 2 is XGBoostRegressor with the features: hour, day_of_week, week_of_year, n_Estimators=1000, learning_rate=0.01"
   ]
  },
  {
   "cell_type": "markdown",
   "id": "53bfec00",
   "metadata": {},
   "source": [
    "#### FINAL MODEL:"
   ]
  },
  {
   "cell_type": "markdown",
   "id": "e3834544",
   "metadata": {},
   "source": [
    "##### PLANT 1:"
   ]
  },
  {
   "cell_type": "code",
   "execution_count": 66,
   "id": "63703e65",
   "metadata": {},
   "outputs": [],
   "source": [
    "X_p1_train_final = plant1_train.iloc[:, 1] # only hour data\n",
    "y_p1_train_final = plant1_train.iloc[:, 0]\n",
    "\n",
    "X_p1_test_final = plant1_test.iloc[:, 1]\n",
    "y_p1_test_final = plant1_test.iloc[:, 0]"
   ]
  },
  {
   "cell_type": "code",
   "execution_count": 67,
   "id": "f8da4655",
   "metadata": {},
   "outputs": [
    {
     "data": {
      "text/html": [
       "<style>#sk-container-id-5 {color: black;}#sk-container-id-5 pre{padding: 0;}#sk-container-id-5 div.sk-toggleable {background-color: white;}#sk-container-id-5 label.sk-toggleable__label {cursor: pointer;display: block;width: 100%;margin-bottom: 0;padding: 0.3em;box-sizing: border-box;text-align: center;}#sk-container-id-5 label.sk-toggleable__label-arrow:before {content: \"▸\";float: left;margin-right: 0.25em;color: #696969;}#sk-container-id-5 label.sk-toggleable__label-arrow:hover:before {color: black;}#sk-container-id-5 div.sk-estimator:hover label.sk-toggleable__label-arrow:before {color: black;}#sk-container-id-5 div.sk-toggleable__content {max-height: 0;max-width: 0;overflow: hidden;text-align: left;background-color: #f0f8ff;}#sk-container-id-5 div.sk-toggleable__content pre {margin: 0.2em;color: black;border-radius: 0.25em;background-color: #f0f8ff;}#sk-container-id-5 input.sk-toggleable__control:checked~div.sk-toggleable__content {max-height: 200px;max-width: 100%;overflow: auto;}#sk-container-id-5 input.sk-toggleable__control:checked~label.sk-toggleable__label-arrow:before {content: \"▾\";}#sk-container-id-5 div.sk-estimator input.sk-toggleable__control:checked~label.sk-toggleable__label {background-color: #d4ebff;}#sk-container-id-5 div.sk-label input.sk-toggleable__control:checked~label.sk-toggleable__label {background-color: #d4ebff;}#sk-container-id-5 input.sk-hidden--visually {border: 0;clip: rect(1px 1px 1px 1px);clip: rect(1px, 1px, 1px, 1px);height: 1px;margin: -1px;overflow: hidden;padding: 0;position: absolute;width: 1px;}#sk-container-id-5 div.sk-estimator {font-family: monospace;background-color: #f0f8ff;border: 1px dotted black;border-radius: 0.25em;box-sizing: border-box;margin-bottom: 0.5em;}#sk-container-id-5 div.sk-estimator:hover {background-color: #d4ebff;}#sk-container-id-5 div.sk-parallel-item::after {content: \"\";width: 100%;border-bottom: 1px solid gray;flex-grow: 1;}#sk-container-id-5 div.sk-label:hover label.sk-toggleable__label {background-color: #d4ebff;}#sk-container-id-5 div.sk-serial::before {content: \"\";position: absolute;border-left: 1px solid gray;box-sizing: border-box;top: 0;bottom: 0;left: 50%;z-index: 0;}#sk-container-id-5 div.sk-serial {display: flex;flex-direction: column;align-items: center;background-color: white;padding-right: 0.2em;padding-left: 0.2em;position: relative;}#sk-container-id-5 div.sk-item {position: relative;z-index: 1;}#sk-container-id-5 div.sk-parallel {display: flex;align-items: stretch;justify-content: center;background-color: white;position: relative;}#sk-container-id-5 div.sk-item::before, #sk-container-id-5 div.sk-parallel-item::before {content: \"\";position: absolute;border-left: 1px solid gray;box-sizing: border-box;top: 0;bottom: 0;left: 50%;z-index: -1;}#sk-container-id-5 div.sk-parallel-item {display: flex;flex-direction: column;z-index: 1;position: relative;background-color: white;}#sk-container-id-5 div.sk-parallel-item:first-child::after {align-self: flex-end;width: 50%;}#sk-container-id-5 div.sk-parallel-item:last-child::after {align-self: flex-start;width: 50%;}#sk-container-id-5 div.sk-parallel-item:only-child::after {width: 0;}#sk-container-id-5 div.sk-dashed-wrapped {border: 1px dashed gray;margin: 0 0.4em 0.5em 0.4em;box-sizing: border-box;padding-bottom: 0.4em;background-color: white;}#sk-container-id-5 div.sk-label label {font-family: monospace;font-weight: bold;display: inline-block;line-height: 1.2em;}#sk-container-id-5 div.sk-label-container {text-align: center;}#sk-container-id-5 div.sk-container {/* jupyter's `normalize.less` sets `[hidden] { display: none; }` but bootstrap.min.css set `[hidden] { display: none !important; }` so we also need the `!important` here to be able to override the default hidden behavior on the sphinx rendered scikit-learn.org. See: https://github.com/scikit-learn/scikit-learn/issues/21755 */display: inline-block !important;position: relative;}#sk-container-id-5 div.sk-text-repr-fallback {display: none;}</style><div id=\"sk-container-id-5\" class=\"sk-top-container\"><div class=\"sk-text-repr-fallback\"><pre>XGBRegressor(base_score=None, booster=None, callbacks=None,\n",
       "             colsample_bylevel=None, colsample_bynode=None,\n",
       "             colsample_bytree=None, device=None, early_stopping_rounds=None,\n",
       "             enable_categorical=False, eval_metric=None, feature_types=None,\n",
       "             gamma=None, grow_policy=None, importance_type=None,\n",
       "             interaction_constraints=None, learning_rate=0.01, max_bin=None,\n",
       "             max_cat_threshold=None, max_cat_to_onehot=None,\n",
       "             max_delta_step=None, max_depth=None, max_leaves=None,\n",
       "             min_child_weight=None, missing=nan, monotone_constraints=None,\n",
       "             multi_strategy=None, n_estimators=1000, n_jobs=None,\n",
       "             num_parallel_tree=None, random_state=None, ...)</pre><b>In a Jupyter environment, please rerun this cell to show the HTML representation or trust the notebook. <br />On GitHub, the HTML representation is unable to render, please try loading this page with nbviewer.org.</b></div><div class=\"sk-container\" hidden><div class=\"sk-item\"><div class=\"sk-estimator sk-toggleable\"><input class=\"sk-toggleable__control sk-hidden--visually\" id=\"sk-estimator-id-5\" type=\"checkbox\" checked><label for=\"sk-estimator-id-5\" class=\"sk-toggleable__label sk-toggleable__label-arrow\">XGBRegressor</label><div class=\"sk-toggleable__content\"><pre>XGBRegressor(base_score=None, booster=None, callbacks=None,\n",
       "             colsample_bylevel=None, colsample_bynode=None,\n",
       "             colsample_bytree=None, device=None, early_stopping_rounds=None,\n",
       "             enable_categorical=False, eval_metric=None, feature_types=None,\n",
       "             gamma=None, grow_policy=None, importance_type=None,\n",
       "             interaction_constraints=None, learning_rate=0.01, max_bin=None,\n",
       "             max_cat_threshold=None, max_cat_to_onehot=None,\n",
       "             max_delta_step=None, max_depth=None, max_leaves=None,\n",
       "             min_child_weight=None, missing=nan, monotone_constraints=None,\n",
       "             multi_strategy=None, n_estimators=1000, n_jobs=None,\n",
       "             num_parallel_tree=None, random_state=None, ...)</pre></div></div></div></div></div>"
      ],
      "text/plain": [
       "XGBRegressor(base_score=None, booster=None, callbacks=None,\n",
       "             colsample_bylevel=None, colsample_bynode=None,\n",
       "             colsample_bytree=None, device=None, early_stopping_rounds=None,\n",
       "             enable_categorical=False, eval_metric=None, feature_types=None,\n",
       "             gamma=None, grow_policy=None, importance_type=None,\n",
       "             interaction_constraints=None, learning_rate=0.01, max_bin=None,\n",
       "             max_cat_threshold=None, max_cat_to_onehot=None,\n",
       "             max_delta_step=None, max_depth=None, max_leaves=None,\n",
       "             min_child_weight=None, missing=nan, monotone_constraints=None,\n",
       "             multi_strategy=None, n_estimators=1000, n_jobs=None,\n",
       "             num_parallel_tree=None, random_state=None, ...)"
      ]
     },
     "execution_count": 67,
     "metadata": {},
     "output_type": "execute_result"
    }
   ],
   "source": [
    "reg_final_p1 = xgb.XGBRegressor(n_estimators=1000, learning_rate=0.01)\n",
    "reg_final_p1.fit(X_p1_train_final, y_p1_train_final)"
   ]
  },
  {
   "cell_type": "code",
   "execution_count": 68,
   "id": "081b4816",
   "metadata": {},
   "outputs": [
    {
     "data": {
      "text/plain": [
       "array([  25.496717,   25.496717,   25.496717, ..., 4983.6963  ,\n",
       "       4983.6963  , 4983.6963  ], dtype=float32)"
      ]
     },
     "execution_count": 68,
     "metadata": {},
     "output_type": "execute_result"
    }
   ],
   "source": [
    "predictions_final_p1 = reg_final_p1.predict(X_p1_test_final)\n",
    "predictions_final_p1"
   ]
  },
  {
   "cell_type": "code",
   "execution_count": 69,
   "id": "7e7b0c48",
   "metadata": {},
   "outputs": [
    {
     "name": "stdout",
     "output_type": "stream",
     "text": [
      "RMSE = 1128.25\n"
     ]
    }
   ],
   "source": [
    "rmse_final_p1 = np.sqrt(mean_squared_error(y_p1_test_final, predictions_final_p1))\n",
    "print(f\"RMSE = {rmse_final_p1:.2f}\")"
   ]
  },
  {
   "cell_type": "markdown",
   "id": "df3620a7",
   "metadata": {},
   "source": [
    "##### PLANT 2:"
   ]
  },
  {
   "cell_type": "code",
   "execution_count": 70,
   "id": "612cd88e",
   "metadata": {},
   "outputs": [],
   "source": [
    "X_p2_train_final = plant2_train.drop(['year', 'month'], axis=1) # using week_of_year, day_of_week, hour\n",
    "y_p2_train_final = plant2_train.iloc[:, 0]\n",
    "\n",
    "X_p2_test_final = plant2_test.drop(['year', 'month'], axis=1)\n",
    "y_p2_test_final = plant2_test.iloc[:, 0]"
   ]
  },
  {
   "cell_type": "code",
   "execution_count": 71,
   "id": "aa20ead9",
   "metadata": {},
   "outputs": [
    {
     "data": {
      "text/html": [
       "<style>#sk-container-id-6 {color: black;}#sk-container-id-6 pre{padding: 0;}#sk-container-id-6 div.sk-toggleable {background-color: white;}#sk-container-id-6 label.sk-toggleable__label {cursor: pointer;display: block;width: 100%;margin-bottom: 0;padding: 0.3em;box-sizing: border-box;text-align: center;}#sk-container-id-6 label.sk-toggleable__label-arrow:before {content: \"▸\";float: left;margin-right: 0.25em;color: #696969;}#sk-container-id-6 label.sk-toggleable__label-arrow:hover:before {color: black;}#sk-container-id-6 div.sk-estimator:hover label.sk-toggleable__label-arrow:before {color: black;}#sk-container-id-6 div.sk-toggleable__content {max-height: 0;max-width: 0;overflow: hidden;text-align: left;background-color: #f0f8ff;}#sk-container-id-6 div.sk-toggleable__content pre {margin: 0.2em;color: black;border-radius: 0.25em;background-color: #f0f8ff;}#sk-container-id-6 input.sk-toggleable__control:checked~div.sk-toggleable__content {max-height: 200px;max-width: 100%;overflow: auto;}#sk-container-id-6 input.sk-toggleable__control:checked~label.sk-toggleable__label-arrow:before {content: \"▾\";}#sk-container-id-6 div.sk-estimator input.sk-toggleable__control:checked~label.sk-toggleable__label {background-color: #d4ebff;}#sk-container-id-6 div.sk-label input.sk-toggleable__control:checked~label.sk-toggleable__label {background-color: #d4ebff;}#sk-container-id-6 input.sk-hidden--visually {border: 0;clip: rect(1px 1px 1px 1px);clip: rect(1px, 1px, 1px, 1px);height: 1px;margin: -1px;overflow: hidden;padding: 0;position: absolute;width: 1px;}#sk-container-id-6 div.sk-estimator {font-family: monospace;background-color: #f0f8ff;border: 1px dotted black;border-radius: 0.25em;box-sizing: border-box;margin-bottom: 0.5em;}#sk-container-id-6 div.sk-estimator:hover {background-color: #d4ebff;}#sk-container-id-6 div.sk-parallel-item::after {content: \"\";width: 100%;border-bottom: 1px solid gray;flex-grow: 1;}#sk-container-id-6 div.sk-label:hover label.sk-toggleable__label {background-color: #d4ebff;}#sk-container-id-6 div.sk-serial::before {content: \"\";position: absolute;border-left: 1px solid gray;box-sizing: border-box;top: 0;bottom: 0;left: 50%;z-index: 0;}#sk-container-id-6 div.sk-serial {display: flex;flex-direction: column;align-items: center;background-color: white;padding-right: 0.2em;padding-left: 0.2em;position: relative;}#sk-container-id-6 div.sk-item {position: relative;z-index: 1;}#sk-container-id-6 div.sk-parallel {display: flex;align-items: stretch;justify-content: center;background-color: white;position: relative;}#sk-container-id-6 div.sk-item::before, #sk-container-id-6 div.sk-parallel-item::before {content: \"\";position: absolute;border-left: 1px solid gray;box-sizing: border-box;top: 0;bottom: 0;left: 50%;z-index: -1;}#sk-container-id-6 div.sk-parallel-item {display: flex;flex-direction: column;z-index: 1;position: relative;background-color: white;}#sk-container-id-6 div.sk-parallel-item:first-child::after {align-self: flex-end;width: 50%;}#sk-container-id-6 div.sk-parallel-item:last-child::after {align-self: flex-start;width: 50%;}#sk-container-id-6 div.sk-parallel-item:only-child::after {width: 0;}#sk-container-id-6 div.sk-dashed-wrapped {border: 1px dashed gray;margin: 0 0.4em 0.5em 0.4em;box-sizing: border-box;padding-bottom: 0.4em;background-color: white;}#sk-container-id-6 div.sk-label label {font-family: monospace;font-weight: bold;display: inline-block;line-height: 1.2em;}#sk-container-id-6 div.sk-label-container {text-align: center;}#sk-container-id-6 div.sk-container {/* jupyter's `normalize.less` sets `[hidden] { display: none; }` but bootstrap.min.css set `[hidden] { display: none !important; }` so we also need the `!important` here to be able to override the default hidden behavior on the sphinx rendered scikit-learn.org. See: https://github.com/scikit-learn/scikit-learn/issues/21755 */display: inline-block !important;position: relative;}#sk-container-id-6 div.sk-text-repr-fallback {display: none;}</style><div id=\"sk-container-id-6\" class=\"sk-top-container\"><div class=\"sk-text-repr-fallback\"><pre>XGBRegressor(base_score=None, booster=None, callbacks=None,\n",
       "             colsample_bylevel=None, colsample_bynode=None,\n",
       "             colsample_bytree=None, device=None, early_stopping_rounds=None,\n",
       "             enable_categorical=False, eval_metric=None, feature_types=None,\n",
       "             gamma=None, grow_policy=None, importance_type=None,\n",
       "             interaction_constraints=None, learning_rate=0.01, max_bin=None,\n",
       "             max_cat_threshold=None, max_cat_to_onehot=None,\n",
       "             max_delta_step=None, max_depth=None, max_leaves=None,\n",
       "             min_child_weight=None, missing=nan, monotone_constraints=None,\n",
       "             multi_strategy=None, n_estimators=100, n_jobs=None,\n",
       "             num_parallel_tree=None, random_state=None, ...)</pre><b>In a Jupyter environment, please rerun this cell to show the HTML representation or trust the notebook. <br />On GitHub, the HTML representation is unable to render, please try loading this page with nbviewer.org.</b></div><div class=\"sk-container\" hidden><div class=\"sk-item\"><div class=\"sk-estimator sk-toggleable\"><input class=\"sk-toggleable__control sk-hidden--visually\" id=\"sk-estimator-id-6\" type=\"checkbox\" checked><label for=\"sk-estimator-id-6\" class=\"sk-toggleable__label sk-toggleable__label-arrow\">XGBRegressor</label><div class=\"sk-toggleable__content\"><pre>XGBRegressor(base_score=None, booster=None, callbacks=None,\n",
       "             colsample_bylevel=None, colsample_bynode=None,\n",
       "             colsample_bytree=None, device=None, early_stopping_rounds=None,\n",
       "             enable_categorical=False, eval_metric=None, feature_types=None,\n",
       "             gamma=None, grow_policy=None, importance_type=None,\n",
       "             interaction_constraints=None, learning_rate=0.01, max_bin=None,\n",
       "             max_cat_threshold=None, max_cat_to_onehot=None,\n",
       "             max_delta_step=None, max_depth=None, max_leaves=None,\n",
       "             min_child_weight=None, missing=nan, monotone_constraints=None,\n",
       "             multi_strategy=None, n_estimators=100, n_jobs=None,\n",
       "             num_parallel_tree=None, random_state=None, ...)</pre></div></div></div></div></div>"
      ],
      "text/plain": [
       "XGBRegressor(base_score=None, booster=None, callbacks=None,\n",
       "             colsample_bylevel=None, colsample_bynode=None,\n",
       "             colsample_bytree=None, device=None, early_stopping_rounds=None,\n",
       "             enable_categorical=False, eval_metric=None, feature_types=None,\n",
       "             gamma=None, grow_policy=None, importance_type=None,\n",
       "             interaction_constraints=None, learning_rate=0.01, max_bin=None,\n",
       "             max_cat_threshold=None, max_cat_to_onehot=None,\n",
       "             max_delta_step=None, max_depth=None, max_leaves=None,\n",
       "             min_child_weight=None, missing=nan, monotone_constraints=None,\n",
       "             multi_strategy=None, n_estimators=100, n_jobs=None,\n",
       "             num_parallel_tree=None, random_state=None, ...)"
      ]
     },
     "execution_count": 71,
     "metadata": {},
     "output_type": "execute_result"
    }
   ],
   "source": [
    "reg_final_p2 = xgb.XGBRegressor(n_estimators=100, learning_rate=0.01)\n",
    "reg_final_p2.fit(X_p2_train_final, y_p2_train_final)"
   ]
  },
  {
   "cell_type": "code",
   "execution_count": 72,
   "id": "672a74d7",
   "metadata": {},
   "outputs": [
    {
     "data": {
      "text/plain": [
       "array([1067.047 , 5523.4956, 5374.6084, ..., 4315.8247, 4209.1377,\n",
       "       4315.8247], dtype=float32)"
      ]
     },
     "execution_count": 72,
     "metadata": {},
     "output_type": "execute_result"
    }
   ],
   "source": [
    "predictions_final_p2 = reg.predict(X_p2_test_final)\n",
    "predictions_final_p2"
   ]
  },
  {
   "cell_type": "code",
   "execution_count": 73,
   "id": "f5416f7e",
   "metadata": {},
   "outputs": [
    {
     "name": "stdout",
     "output_type": "stream",
     "text": [
      "RMSE = 15.60\n"
     ]
    }
   ],
   "source": [
    "rmse_final_p2 = np.sqrt(mean_squared_error(y_p2_test_final, predictions_final_p2))\n",
    "print(f\"RMSE = {rmse_final_p2:.2f}\")"
   ]
  },
  {
   "cell_type": "markdown",
   "id": "e3682110",
   "metadata": {},
   "source": [
    "#### Exporting the final train, test sets:"
   ]
  },
  {
   "cell_type": "code",
   "execution_count": 74,
   "id": "703505f3",
   "metadata": {},
   "outputs": [],
   "source": [
    "X_p1_train_final.to_csv('X_plant1_train.csv')\n",
    "X_p1_test_final.to_csv('X_plant1_test.csv')\n",
    "\n",
    "y_p1_train_final.to_csv('y_plant1_train.csv')\n",
    "y_p1_test_final.to_csv('y_plant1_test.csv')\n",
    "\n",
    "X_p2_train_final.to_csv('X_plant2_train.csv')\n",
    "X_p2_test_final.to_csv('X_plant2_test.csv')\n",
    "\n",
    "y_p2_train_final.to_csv('y_plant2_train.csv')\n",
    "y_p2_test_final.to_csv('y_plant2_test.csv')"
   ]
  },
  {
   "cell_type": "code",
   "execution_count": null,
   "id": "95388a41",
   "metadata": {},
   "outputs": [],
   "source": []
  }
 ],
 "metadata": {
  "kernelspec": {
   "display_name": "Python 3 (ipykernel)",
   "language": "python",
   "name": "python3"
  },
  "language_info": {
   "codemirror_mode": {
    "name": "ipython",
    "version": 3
   },
   "file_extension": ".py",
   "mimetype": "text/x-python",
   "name": "python",
   "nbconvert_exporter": "python",
   "pygments_lexer": "ipython3",
   "version": "3.11.5"
  }
 },
 "nbformat": 4,
 "nbformat_minor": 5
}
